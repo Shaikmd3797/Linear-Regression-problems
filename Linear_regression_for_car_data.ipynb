{
  "nbformat": 4,
  "nbformat_minor": 0,
  "metadata": {
    "colab": {
      "provenance": [],
      "collapsed_sections": [
        "sZEJsDSHozPK",
        "ybRFPVXNM2ni",
        "CkmgiOxkNDuZ",
        "Dbjs-LSaU3z6"
      ],
      "authorship_tag": "ABX9TyOKjGAFt0WvdNa+oLMpPhvd",
      "include_colab_link": true
    },
    "kernelspec": {
      "name": "python3",
      "display_name": "Python 3"
    },
    "language_info": {
      "name": "python"
    }
  },
  "cells": [
    {
      "cell_type": "markdown",
      "metadata": {
        "id": "view-in-github",
        "colab_type": "text"
      },
      "source": [
        "<a href=\"https://colab.research.google.com/github/Shaikmd3797/Linear-Regression-problems/blob/main/Linear_regression_for_car_data.ipynb\" target=\"_parent\"><img src=\"https://colab.research.google.com/assets/colab-badge.svg\" alt=\"Open In Colab\"/></a>"
      ]
    },
    {
      "cell_type": "markdown",
      "source": [
        "# ***introduction***\n"
      ],
      "metadata": {
        "id": "N-9taLLKlmPZ"
      }
    },
    {
      "cell_type": "markdown",
      "source": [
        "# ***How Much is Your Car Worth?***\n",
        "\n",
        "Data about the retail price of 2005 General Motors cars can be found in `car_data.csv`.\n",
        "\n",
        "**The columns are:**\n",
        "\n",
        "1. Price: suggested retail price of the used 2005 GM car in excellent condition.\n",
        "2. Mileage: number of miles the car has been driven\n",
        "3. Make: manufacturer of the car such as Saturn, Pontiac, and Chevrolet\n",
        "4. Model: specific models for each car manufacturer such as Ion, Vibe, Cavalier\n",
        "5. Trim (of car): specific type of car model such as SE Sedan 4D, Quad Coupe 2D          \n",
        "6. Type: body type such as sedan, coupe, etc.      \n",
        "7. Cylinder: number of cylinders in the engine        \n",
        "8. Liter: a more specific measure of engine size     \n",
        "9. Doors: number of doors           \n",
        "10. Cruise: indicator variable representing whether the car has cruise control (1 = cruise)\n",
        "11. Sound: indicator variable representing whether the car has upgraded speakers (1 = upgraded)\n",
        "12. Leather: indicator variable representing whether the car has leather seats (1 = leather)\n"
      ],
      "metadata": {
        "id": "RCp3K3yulyvG"
      }
    },
    {
      "cell_type": "markdown",
      "source": [
        " # ***Part 1***\n",
        "\n",
        "1. Find the linear regression equation for mileage vs price.\n",
        "2. Chart the original data and the equation on the chart.\n",
        "3. Find the equation's $R^2$ score (use the `.score` method) to determine whether the\n",
        "equation is a good fit for this data. (0.8 and greater is considered a strong correlation.)"
      ],
      "metadata": {
        "id": "W4sXoI3_6Uzl"
      }
    },
    {
      "cell_type": "code",
      "source": [
        "import pandas as pd\n",
        "import numpy as np\n",
        "import matplotlib.pyplot as plt\n",
        "import seaborn as sns"
      ],
      "metadata": {
        "id": "w9cM9KeLmdZI"
      },
      "execution_count": 7,
      "outputs": []
    },
    {
      "cell_type": "code",
      "source": [
        "df = pd.read_csv('car_data.csv')\n",
        "df.head()"
      ],
      "metadata": {
        "colab": {
          "base_uri": "https://localhost:8080/",
          "height": 206
        },
        "id": "cRMTSQeAxr0Q",
        "outputId": "8e1dfab1-921d-46d0-9d45-df9d1f1f49ae"
      },
      "execution_count": 8,
      "outputs": [
        {
          "output_type": "execute_result",
          "data": {
            "text/plain": [
              "          Price  Mileage   Make    Model      Trim   Type  Cylinder  Liter  \\\n",
              "0  17314.103129     8221  Buick  Century  Sedan 4D  Sedan         6    3.1   \n",
              "1  17542.036083     9135  Buick  Century  Sedan 4D  Sedan         6    3.1   \n",
              "2  16218.847862    13196  Buick  Century  Sedan 4D  Sedan         6    3.1   \n",
              "3  16336.913140    16342  Buick  Century  Sedan 4D  Sedan         6    3.1   \n",
              "4  16339.170324    19832  Buick  Century  Sedan 4D  Sedan         6    3.1   \n",
              "\n",
              "   Doors  Cruise  Sound  Leather  \n",
              "0      4       1      1        1  \n",
              "1      4       1      1        0  \n",
              "2      4       1      1        0  \n",
              "3      4       1      0        0  \n",
              "4      4       1      0        1  "
            ],
            "text/html": [
              "\n",
              "  <div id=\"df-8bea1931-5768-41cc-a239-ee1570244420\">\n",
              "    <div class=\"colab-df-container\">\n",
              "      <div>\n",
              "<style scoped>\n",
              "    .dataframe tbody tr th:only-of-type {\n",
              "        vertical-align: middle;\n",
              "    }\n",
              "\n",
              "    .dataframe tbody tr th {\n",
              "        vertical-align: top;\n",
              "    }\n",
              "\n",
              "    .dataframe thead th {\n",
              "        text-align: right;\n",
              "    }\n",
              "</style>\n",
              "<table border=\"1\" class=\"dataframe\">\n",
              "  <thead>\n",
              "    <tr style=\"text-align: right;\">\n",
              "      <th></th>\n",
              "      <th>Price</th>\n",
              "      <th>Mileage</th>\n",
              "      <th>Make</th>\n",
              "      <th>Model</th>\n",
              "      <th>Trim</th>\n",
              "      <th>Type</th>\n",
              "      <th>Cylinder</th>\n",
              "      <th>Liter</th>\n",
              "      <th>Doors</th>\n",
              "      <th>Cruise</th>\n",
              "      <th>Sound</th>\n",
              "      <th>Leather</th>\n",
              "    </tr>\n",
              "  </thead>\n",
              "  <tbody>\n",
              "    <tr>\n",
              "      <th>0</th>\n",
              "      <td>17314.103129</td>\n",
              "      <td>8221</td>\n",
              "      <td>Buick</td>\n",
              "      <td>Century</td>\n",
              "      <td>Sedan 4D</td>\n",
              "      <td>Sedan</td>\n",
              "      <td>6</td>\n",
              "      <td>3.1</td>\n",
              "      <td>4</td>\n",
              "      <td>1</td>\n",
              "      <td>1</td>\n",
              "      <td>1</td>\n",
              "    </tr>\n",
              "    <tr>\n",
              "      <th>1</th>\n",
              "      <td>17542.036083</td>\n",
              "      <td>9135</td>\n",
              "      <td>Buick</td>\n",
              "      <td>Century</td>\n",
              "      <td>Sedan 4D</td>\n",
              "      <td>Sedan</td>\n",
              "      <td>6</td>\n",
              "      <td>3.1</td>\n",
              "      <td>4</td>\n",
              "      <td>1</td>\n",
              "      <td>1</td>\n",
              "      <td>0</td>\n",
              "    </tr>\n",
              "    <tr>\n",
              "      <th>2</th>\n",
              "      <td>16218.847862</td>\n",
              "      <td>13196</td>\n",
              "      <td>Buick</td>\n",
              "      <td>Century</td>\n",
              "      <td>Sedan 4D</td>\n",
              "      <td>Sedan</td>\n",
              "      <td>6</td>\n",
              "      <td>3.1</td>\n",
              "      <td>4</td>\n",
              "      <td>1</td>\n",
              "      <td>1</td>\n",
              "      <td>0</td>\n",
              "    </tr>\n",
              "    <tr>\n",
              "      <th>3</th>\n",
              "      <td>16336.913140</td>\n",
              "      <td>16342</td>\n",
              "      <td>Buick</td>\n",
              "      <td>Century</td>\n",
              "      <td>Sedan 4D</td>\n",
              "      <td>Sedan</td>\n",
              "      <td>6</td>\n",
              "      <td>3.1</td>\n",
              "      <td>4</td>\n",
              "      <td>1</td>\n",
              "      <td>0</td>\n",
              "      <td>0</td>\n",
              "    </tr>\n",
              "    <tr>\n",
              "      <th>4</th>\n",
              "      <td>16339.170324</td>\n",
              "      <td>19832</td>\n",
              "      <td>Buick</td>\n",
              "      <td>Century</td>\n",
              "      <td>Sedan 4D</td>\n",
              "      <td>Sedan</td>\n",
              "      <td>6</td>\n",
              "      <td>3.1</td>\n",
              "      <td>4</td>\n",
              "      <td>1</td>\n",
              "      <td>0</td>\n",
              "      <td>1</td>\n",
              "    </tr>\n",
              "  </tbody>\n",
              "</table>\n",
              "</div>\n",
              "      <button class=\"colab-df-convert\" onclick=\"convertToInteractive('df-8bea1931-5768-41cc-a239-ee1570244420')\"\n",
              "              title=\"Convert this dataframe to an interactive table.\"\n",
              "              style=\"display:none;\">\n",
              "        \n",
              "  <svg xmlns=\"http://www.w3.org/2000/svg\" height=\"24px\"viewBox=\"0 0 24 24\"\n",
              "       width=\"24px\">\n",
              "    <path d=\"M0 0h24v24H0V0z\" fill=\"none\"/>\n",
              "    <path d=\"M18.56 5.44l.94 2.06.94-2.06 2.06-.94-2.06-.94-.94-2.06-.94 2.06-2.06.94zm-11 1L8.5 8.5l.94-2.06 2.06-.94-2.06-.94L8.5 2.5l-.94 2.06-2.06.94zm10 10l.94 2.06.94-2.06 2.06-.94-2.06-.94-.94-2.06-.94 2.06-2.06.94z\"/><path d=\"M17.41 7.96l-1.37-1.37c-.4-.4-.92-.59-1.43-.59-.52 0-1.04.2-1.43.59L10.3 9.45l-7.72 7.72c-.78.78-.78 2.05 0 2.83L4 21.41c.39.39.9.59 1.41.59.51 0 1.02-.2 1.41-.59l7.78-7.78 2.81-2.81c.8-.78.8-2.07 0-2.86zM5.41 20L4 18.59l7.72-7.72 1.47 1.35L5.41 20z\"/>\n",
              "  </svg>\n",
              "      </button>\n",
              "      \n",
              "  <style>\n",
              "    .colab-df-container {\n",
              "      display:flex;\n",
              "      flex-wrap:wrap;\n",
              "      gap: 12px;\n",
              "    }\n",
              "\n",
              "    .colab-df-convert {\n",
              "      background-color: #E8F0FE;\n",
              "      border: none;\n",
              "      border-radius: 50%;\n",
              "      cursor: pointer;\n",
              "      display: none;\n",
              "      fill: #1967D2;\n",
              "      height: 32px;\n",
              "      padding: 0 0 0 0;\n",
              "      width: 32px;\n",
              "    }\n",
              "\n",
              "    .colab-df-convert:hover {\n",
              "      background-color: #E2EBFA;\n",
              "      box-shadow: 0px 1px 2px rgba(60, 64, 67, 0.3), 0px 1px 3px 1px rgba(60, 64, 67, 0.15);\n",
              "      fill: #174EA6;\n",
              "    }\n",
              "\n",
              "    [theme=dark] .colab-df-convert {\n",
              "      background-color: #3B4455;\n",
              "      fill: #D2E3FC;\n",
              "    }\n",
              "\n",
              "    [theme=dark] .colab-df-convert:hover {\n",
              "      background-color: #434B5C;\n",
              "      box-shadow: 0px 1px 3px 1px rgba(0, 0, 0, 0.15);\n",
              "      filter: drop-shadow(0px 1px 2px rgba(0, 0, 0, 0.3));\n",
              "      fill: #FFFFFF;\n",
              "    }\n",
              "  </style>\n",
              "\n",
              "      <script>\n",
              "        const buttonEl =\n",
              "          document.querySelector('#df-8bea1931-5768-41cc-a239-ee1570244420 button.colab-df-convert');\n",
              "        buttonEl.style.display =\n",
              "          google.colab.kernel.accessAllowed ? 'block' : 'none';\n",
              "\n",
              "        async function convertToInteractive(key) {\n",
              "          const element = document.querySelector('#df-8bea1931-5768-41cc-a239-ee1570244420');\n",
              "          const dataTable =\n",
              "            await google.colab.kernel.invokeFunction('convertToInteractive',\n",
              "                                                     [key], {});\n",
              "          if (!dataTable) return;\n",
              "\n",
              "          const docLinkHtml = 'Like what you see? Visit the ' +\n",
              "            '<a target=\"_blank\" href=https://colab.research.google.com/notebooks/data_table.ipynb>data table notebook</a>'\n",
              "            + ' to learn more about interactive tables.';\n",
              "          element.innerHTML = '';\n",
              "          dataTable['output_type'] = 'display_data';\n",
              "          await google.colab.output.renderOutput(dataTable, element);\n",
              "          const docLink = document.createElement('div');\n",
              "          docLink.innerHTML = docLinkHtml;\n",
              "          element.appendChild(docLink);\n",
              "        }\n",
              "      </script>\n",
              "    </div>\n",
              "  </div>\n",
              "  "
            ]
          },
          "metadata": {},
          "execution_count": 8
        }
      ]
    },
    {
      "cell_type": "code",
      "source": [
        "col=list(df.columns)"
      ],
      "metadata": {
        "id": "PzGodeTr4Fnm"
      },
      "execution_count": 9,
      "outputs": []
    },
    {
      "cell_type": "markdown",
      "source": [
        "# ***1st jar of machine learning is data***\n",
        "\n",
        "1. *cleaning*\n",
        "2. *encoding*\n",
        "3. *splitting*\n",
        "4. *scaling*"
      ],
      "metadata": {
        "id": "sZEJsDSHozPK"
      }
    },
    {
      "cell_type": "markdown",
      "source": [
        "# ***1) cleaning the data***"
      ],
      "metadata": {
        "id": "wnhSpzp1pfHB"
      }
    },
    {
      "cell_type": "code",
      "source": [
        "df.isnull().sum() # finding the missing the values"
      ],
      "metadata": {
        "id": "8OIzdD07otLA",
        "colab": {
          "base_uri": "https://localhost:8080/"
        },
        "outputId": "e3120978-d105-44fb-f15d-66cd5e055819"
      },
      "execution_count": 10,
      "outputs": [
        {
          "output_type": "execute_result",
          "data": {
            "text/plain": [
              "Price       0\n",
              "Mileage     0\n",
              "Make        0\n",
              "Model       0\n",
              "Trim        0\n",
              "Type        0\n",
              "Cylinder    0\n",
              "Liter       0\n",
              "Doors       0\n",
              "Cruise      0\n",
              "Sound       0\n",
              "Leather     0\n",
              "dtype: int64"
            ]
          },
          "metadata": {},
          "execution_count": 10
        }
      ]
    },
    {
      "cell_type": "code",
      "source": [
        "df=df.drop_duplicates() #drop the duplicate data then stored the data into df\n",
        "df.shape"
      ],
      "metadata": {
        "id": "dWsMJ52UotOB",
        "colab": {
          "base_uri": "https://localhost:8080/"
        },
        "outputId": "44275677-7a99-4fa2-ba2c-5da8666c816c"
      },
      "execution_count": 11,
      "outputs": [
        {
          "output_type": "execute_result",
          "data": {
            "text/plain": [
              "(804, 12)"
            ]
          },
          "metadata": {},
          "execution_count": 11
        }
      ]
    },
    {
      "cell_type": "code",
      "source": [
        "df.dtypes #checking the correct format in each column \n",
        "# checking the structured data. htis data contain columns and rows properly"
      ],
      "metadata": {
        "colab": {
          "base_uri": "https://localhost:8080/"
        },
        "id": "bPf_wWj8HldD",
        "outputId": "dd533814-ce17-4b66-8bd2-6a5c66c628ef"
      },
      "execution_count": 12,
      "outputs": [
        {
          "output_type": "execute_result",
          "data": {
            "text/plain": [
              "Price       float64\n",
              "Mileage       int64\n",
              "Make         object\n",
              "Model        object\n",
              "Trim         object\n",
              "Type         object\n",
              "Cylinder      int64\n",
              "Liter       float64\n",
              "Doors         int64\n",
              "Cruise        int64\n",
              "Sound         int64\n",
              "Leather       int64\n",
              "dtype: object"
            ]
          },
          "metadata": {},
          "execution_count": 12
        }
      ]
    },
    {
      "cell_type": "code",
      "source": [
        "df.describe()"
      ],
      "metadata": {
        "colab": {
          "base_uri": "https://localhost:8080/",
          "height": 300
        },
        "id": "siTqFiwxK4nU",
        "outputId": "cff20c7d-fb07-4997-cb52-2cc1f10a1d96"
      },
      "execution_count": 13,
      "outputs": [
        {
          "output_type": "execute_result",
          "data": {
            "text/plain": [
              "              Price       Mileage    Cylinder       Liter       Doors  \\\n",
              "count    804.000000    804.000000  804.000000  804.000000  804.000000   \n",
              "mean   21343.143767  19831.934080    5.268657    3.037313    3.527363   \n",
              "std     9884.852801   8196.319707    1.387531    1.105562    0.850169   \n",
              "min     8638.930895    266.000000    4.000000    1.600000    2.000000   \n",
              "25%    14273.073870  14623.500000    4.000000    2.200000    4.000000   \n",
              "50%    18024.995019  20913.500000    6.000000    2.800000    4.000000   \n",
              "75%    26717.316636  25213.000000    6.000000    3.800000    4.000000   \n",
              "max    70755.466717  50387.000000    8.000000    6.000000    4.000000   \n",
              "\n",
              "           Cruise       Sound     Leather  \n",
              "count  804.000000  804.000000  804.000000  \n",
              "mean     0.752488    0.679104    0.723881  \n",
              "std      0.431836    0.467111    0.447355  \n",
              "min      0.000000    0.000000    0.000000  \n",
              "25%      1.000000    0.000000    0.000000  \n",
              "50%      1.000000    1.000000    1.000000  \n",
              "75%      1.000000    1.000000    1.000000  \n",
              "max      1.000000    1.000000    1.000000  "
            ],
            "text/html": [
              "\n",
              "  <div id=\"df-fe95069c-1173-4621-a071-a55cdd987db5\">\n",
              "    <div class=\"colab-df-container\">\n",
              "      <div>\n",
              "<style scoped>\n",
              "    .dataframe tbody tr th:only-of-type {\n",
              "        vertical-align: middle;\n",
              "    }\n",
              "\n",
              "    .dataframe tbody tr th {\n",
              "        vertical-align: top;\n",
              "    }\n",
              "\n",
              "    .dataframe thead th {\n",
              "        text-align: right;\n",
              "    }\n",
              "</style>\n",
              "<table border=\"1\" class=\"dataframe\">\n",
              "  <thead>\n",
              "    <tr style=\"text-align: right;\">\n",
              "      <th></th>\n",
              "      <th>Price</th>\n",
              "      <th>Mileage</th>\n",
              "      <th>Cylinder</th>\n",
              "      <th>Liter</th>\n",
              "      <th>Doors</th>\n",
              "      <th>Cruise</th>\n",
              "      <th>Sound</th>\n",
              "      <th>Leather</th>\n",
              "    </tr>\n",
              "  </thead>\n",
              "  <tbody>\n",
              "    <tr>\n",
              "      <th>count</th>\n",
              "      <td>804.000000</td>\n",
              "      <td>804.000000</td>\n",
              "      <td>804.000000</td>\n",
              "      <td>804.000000</td>\n",
              "      <td>804.000000</td>\n",
              "      <td>804.000000</td>\n",
              "      <td>804.000000</td>\n",
              "      <td>804.000000</td>\n",
              "    </tr>\n",
              "    <tr>\n",
              "      <th>mean</th>\n",
              "      <td>21343.143767</td>\n",
              "      <td>19831.934080</td>\n",
              "      <td>5.268657</td>\n",
              "      <td>3.037313</td>\n",
              "      <td>3.527363</td>\n",
              "      <td>0.752488</td>\n",
              "      <td>0.679104</td>\n",
              "      <td>0.723881</td>\n",
              "    </tr>\n",
              "    <tr>\n",
              "      <th>std</th>\n",
              "      <td>9884.852801</td>\n",
              "      <td>8196.319707</td>\n",
              "      <td>1.387531</td>\n",
              "      <td>1.105562</td>\n",
              "      <td>0.850169</td>\n",
              "      <td>0.431836</td>\n",
              "      <td>0.467111</td>\n",
              "      <td>0.447355</td>\n",
              "    </tr>\n",
              "    <tr>\n",
              "      <th>min</th>\n",
              "      <td>8638.930895</td>\n",
              "      <td>266.000000</td>\n",
              "      <td>4.000000</td>\n",
              "      <td>1.600000</td>\n",
              "      <td>2.000000</td>\n",
              "      <td>0.000000</td>\n",
              "      <td>0.000000</td>\n",
              "      <td>0.000000</td>\n",
              "    </tr>\n",
              "    <tr>\n",
              "      <th>25%</th>\n",
              "      <td>14273.073870</td>\n",
              "      <td>14623.500000</td>\n",
              "      <td>4.000000</td>\n",
              "      <td>2.200000</td>\n",
              "      <td>4.000000</td>\n",
              "      <td>1.000000</td>\n",
              "      <td>0.000000</td>\n",
              "      <td>0.000000</td>\n",
              "    </tr>\n",
              "    <tr>\n",
              "      <th>50%</th>\n",
              "      <td>18024.995019</td>\n",
              "      <td>20913.500000</td>\n",
              "      <td>6.000000</td>\n",
              "      <td>2.800000</td>\n",
              "      <td>4.000000</td>\n",
              "      <td>1.000000</td>\n",
              "      <td>1.000000</td>\n",
              "      <td>1.000000</td>\n",
              "    </tr>\n",
              "    <tr>\n",
              "      <th>75%</th>\n",
              "      <td>26717.316636</td>\n",
              "      <td>25213.000000</td>\n",
              "      <td>6.000000</td>\n",
              "      <td>3.800000</td>\n",
              "      <td>4.000000</td>\n",
              "      <td>1.000000</td>\n",
              "      <td>1.000000</td>\n",
              "      <td>1.000000</td>\n",
              "    </tr>\n",
              "    <tr>\n",
              "      <th>max</th>\n",
              "      <td>70755.466717</td>\n",
              "      <td>50387.000000</td>\n",
              "      <td>8.000000</td>\n",
              "      <td>6.000000</td>\n",
              "      <td>4.000000</td>\n",
              "      <td>1.000000</td>\n",
              "      <td>1.000000</td>\n",
              "      <td>1.000000</td>\n",
              "    </tr>\n",
              "  </tbody>\n",
              "</table>\n",
              "</div>\n",
              "      <button class=\"colab-df-convert\" onclick=\"convertToInteractive('df-fe95069c-1173-4621-a071-a55cdd987db5')\"\n",
              "              title=\"Convert this dataframe to an interactive table.\"\n",
              "              style=\"display:none;\">\n",
              "        \n",
              "  <svg xmlns=\"http://www.w3.org/2000/svg\" height=\"24px\"viewBox=\"0 0 24 24\"\n",
              "       width=\"24px\">\n",
              "    <path d=\"M0 0h24v24H0V0z\" fill=\"none\"/>\n",
              "    <path d=\"M18.56 5.44l.94 2.06.94-2.06 2.06-.94-2.06-.94-.94-2.06-.94 2.06-2.06.94zm-11 1L8.5 8.5l.94-2.06 2.06-.94-2.06-.94L8.5 2.5l-.94 2.06-2.06.94zm10 10l.94 2.06.94-2.06 2.06-.94-2.06-.94-.94-2.06-.94 2.06-2.06.94z\"/><path d=\"M17.41 7.96l-1.37-1.37c-.4-.4-.92-.59-1.43-.59-.52 0-1.04.2-1.43.59L10.3 9.45l-7.72 7.72c-.78.78-.78 2.05 0 2.83L4 21.41c.39.39.9.59 1.41.59.51 0 1.02-.2 1.41-.59l7.78-7.78 2.81-2.81c.8-.78.8-2.07 0-2.86zM5.41 20L4 18.59l7.72-7.72 1.47 1.35L5.41 20z\"/>\n",
              "  </svg>\n",
              "      </button>\n",
              "      \n",
              "  <style>\n",
              "    .colab-df-container {\n",
              "      display:flex;\n",
              "      flex-wrap:wrap;\n",
              "      gap: 12px;\n",
              "    }\n",
              "\n",
              "    .colab-df-convert {\n",
              "      background-color: #E8F0FE;\n",
              "      border: none;\n",
              "      border-radius: 50%;\n",
              "      cursor: pointer;\n",
              "      display: none;\n",
              "      fill: #1967D2;\n",
              "      height: 32px;\n",
              "      padding: 0 0 0 0;\n",
              "      width: 32px;\n",
              "    }\n",
              "\n",
              "    .colab-df-convert:hover {\n",
              "      background-color: #E2EBFA;\n",
              "      box-shadow: 0px 1px 2px rgba(60, 64, 67, 0.3), 0px 1px 3px 1px rgba(60, 64, 67, 0.15);\n",
              "      fill: #174EA6;\n",
              "    }\n",
              "\n",
              "    [theme=dark] .colab-df-convert {\n",
              "      background-color: #3B4455;\n",
              "      fill: #D2E3FC;\n",
              "    }\n",
              "\n",
              "    [theme=dark] .colab-df-convert:hover {\n",
              "      background-color: #434B5C;\n",
              "      box-shadow: 0px 1px 3px 1px rgba(0, 0, 0, 0.15);\n",
              "      filter: drop-shadow(0px 1px 2px rgba(0, 0, 0, 0.3));\n",
              "      fill: #FFFFFF;\n",
              "    }\n",
              "  </style>\n",
              "\n",
              "      <script>\n",
              "        const buttonEl =\n",
              "          document.querySelector('#df-fe95069c-1173-4621-a071-a55cdd987db5 button.colab-df-convert');\n",
              "        buttonEl.style.display =\n",
              "          google.colab.kernel.accessAllowed ? 'block' : 'none';\n",
              "\n",
              "        async function convertToInteractive(key) {\n",
              "          const element = document.querySelector('#df-fe95069c-1173-4621-a071-a55cdd987db5');\n",
              "          const dataTable =\n",
              "            await google.colab.kernel.invokeFunction('convertToInteractive',\n",
              "                                                     [key], {});\n",
              "          if (!dataTable) return;\n",
              "\n",
              "          const docLinkHtml = 'Like what you see? Visit the ' +\n",
              "            '<a target=\"_blank\" href=https://colab.research.google.com/notebooks/data_table.ipynb>data table notebook</a>'\n",
              "            + ' to learn more about interactive tables.';\n",
              "          element.innerHTML = '';\n",
              "          dataTable['output_type'] = 'display_data';\n",
              "          await google.colab.output.renderOutput(dataTable, element);\n",
              "          const docLink = document.createElement('div');\n",
              "          docLink.innerHTML = docLinkHtml;\n",
              "          element.appendChild(docLink);\n",
              "        }\n",
              "      </script>\n",
              "    </div>\n",
              "  </div>\n",
              "  "
            ]
          },
          "metadata": {},
          "execution_count": 13
        }
      ]
    },
    {
      "cell_type": "code",
      "source": [
        "cont_col=['Mileage','Cylinder','Liter','Doors','Cruise','Sound','Leather']"
      ],
      "metadata": {
        "id": "mPC7A3X2YJCC"
      },
      "execution_count": 14,
      "outputs": []
    },
    {
      "cell_type": "code",
      "source": [],
      "metadata": {
        "id": "QwEniFE7YJGE"
      },
      "execution_count": 14,
      "outputs": []
    },
    {
      "cell_type": "code",
      "source": [
        "for i in cont_col:\n",
        "  q1=df[i].quantile(0.25)  # 25 th quantile\n",
        "  q3=df[i].quantile(0.75)  # 75 th quantile\n",
        "  iqr= q3-q1  #iqr value\n",
        "  upper= q3+1.5 * iqr\n",
        "  lower = q1 -1.5* iqr\n",
        "  outliers=[x for x in df[i] if x< lower or x>upper]\n",
        "  print('counts of outliers of',i,'is',len(outliers))"
      ],
      "metadata": {
        "colab": {
          "base_uri": "https://localhost:8080/"
        },
        "id": "ymLSl0SzHkiV",
        "outputId": "f8fa6f29-0465-4256-81ad-292d789645c6"
      },
      "execution_count": 15,
      "outputs": [
        {
          "output_type": "stream",
          "name": "stdout",
          "text": [
            "counts of outliers of Mileage is 5\n",
            "counts of outliers of Cylinder is 0\n",
            "counts of outliers of Liter is 0\n",
            "counts of outliers of Doors is 190\n",
            "counts of outliers of Cruise is 199\n",
            "counts of outliers of Sound is 0\n",
            "counts of outliers of Leather is 0\n"
          ]
        }
      ]
    },
    {
      "cell_type": "code",
      "source": [
        "#outliers of each column has high if it remove or change it will affect the result of dataset"
      ],
      "metadata": {
        "id": "_e3m_j8zH3OK"
      },
      "execution_count": 16,
      "outputs": []
    },
    {
      "cell_type": "code",
      "source": [
        "df.isnull().sum()"
      ],
      "metadata": {
        "colab": {
          "base_uri": "https://localhost:8080/"
        },
        "id": "t5etojPULe-j",
        "outputId": "c6ee1171-ea14-48bb-866b-65c3e9ebb1a3"
      },
      "execution_count": 17,
      "outputs": [
        {
          "output_type": "execute_result",
          "data": {
            "text/plain": [
              "Price       0\n",
              "Mileage     0\n",
              "Make        0\n",
              "Model       0\n",
              "Trim        0\n",
              "Type        0\n",
              "Cylinder    0\n",
              "Liter       0\n",
              "Doors       0\n",
              "Cruise      0\n",
              "Sound       0\n",
              "Leather     0\n",
              "dtype: int64"
            ]
          },
          "metadata": {},
          "execution_count": 17
        }
      ]
    },
    {
      "cell_type": "code",
      "source": [
        "df=df.dropna()\n",
        "df.describe()"
      ],
      "metadata": {
        "colab": {
          "base_uri": "https://localhost:8080/",
          "height": 300
        },
        "id": "HYv14u2zLxRD",
        "outputId": "b8686aae-4986-4b6c-9f40-5d634cd9d0b0"
      },
      "execution_count": 18,
      "outputs": [
        {
          "output_type": "execute_result",
          "data": {
            "text/plain": [
              "              Price       Mileage    Cylinder       Liter       Doors  \\\n",
              "count    804.000000    804.000000  804.000000  804.000000  804.000000   \n",
              "mean   21343.143767  19831.934080    5.268657    3.037313    3.527363   \n",
              "std     9884.852801   8196.319707    1.387531    1.105562    0.850169   \n",
              "min     8638.930895    266.000000    4.000000    1.600000    2.000000   \n",
              "25%    14273.073870  14623.500000    4.000000    2.200000    4.000000   \n",
              "50%    18024.995019  20913.500000    6.000000    2.800000    4.000000   \n",
              "75%    26717.316636  25213.000000    6.000000    3.800000    4.000000   \n",
              "max    70755.466717  50387.000000    8.000000    6.000000    4.000000   \n",
              "\n",
              "           Cruise       Sound     Leather  \n",
              "count  804.000000  804.000000  804.000000  \n",
              "mean     0.752488    0.679104    0.723881  \n",
              "std      0.431836    0.467111    0.447355  \n",
              "min      0.000000    0.000000    0.000000  \n",
              "25%      1.000000    0.000000    0.000000  \n",
              "50%      1.000000    1.000000    1.000000  \n",
              "75%      1.000000    1.000000    1.000000  \n",
              "max      1.000000    1.000000    1.000000  "
            ],
            "text/html": [
              "\n",
              "  <div id=\"df-0b08e063-29af-4da7-b26b-f3b95b185236\">\n",
              "    <div class=\"colab-df-container\">\n",
              "      <div>\n",
              "<style scoped>\n",
              "    .dataframe tbody tr th:only-of-type {\n",
              "        vertical-align: middle;\n",
              "    }\n",
              "\n",
              "    .dataframe tbody tr th {\n",
              "        vertical-align: top;\n",
              "    }\n",
              "\n",
              "    .dataframe thead th {\n",
              "        text-align: right;\n",
              "    }\n",
              "</style>\n",
              "<table border=\"1\" class=\"dataframe\">\n",
              "  <thead>\n",
              "    <tr style=\"text-align: right;\">\n",
              "      <th></th>\n",
              "      <th>Price</th>\n",
              "      <th>Mileage</th>\n",
              "      <th>Cylinder</th>\n",
              "      <th>Liter</th>\n",
              "      <th>Doors</th>\n",
              "      <th>Cruise</th>\n",
              "      <th>Sound</th>\n",
              "      <th>Leather</th>\n",
              "    </tr>\n",
              "  </thead>\n",
              "  <tbody>\n",
              "    <tr>\n",
              "      <th>count</th>\n",
              "      <td>804.000000</td>\n",
              "      <td>804.000000</td>\n",
              "      <td>804.000000</td>\n",
              "      <td>804.000000</td>\n",
              "      <td>804.000000</td>\n",
              "      <td>804.000000</td>\n",
              "      <td>804.000000</td>\n",
              "      <td>804.000000</td>\n",
              "    </tr>\n",
              "    <tr>\n",
              "      <th>mean</th>\n",
              "      <td>21343.143767</td>\n",
              "      <td>19831.934080</td>\n",
              "      <td>5.268657</td>\n",
              "      <td>3.037313</td>\n",
              "      <td>3.527363</td>\n",
              "      <td>0.752488</td>\n",
              "      <td>0.679104</td>\n",
              "      <td>0.723881</td>\n",
              "    </tr>\n",
              "    <tr>\n",
              "      <th>std</th>\n",
              "      <td>9884.852801</td>\n",
              "      <td>8196.319707</td>\n",
              "      <td>1.387531</td>\n",
              "      <td>1.105562</td>\n",
              "      <td>0.850169</td>\n",
              "      <td>0.431836</td>\n",
              "      <td>0.467111</td>\n",
              "      <td>0.447355</td>\n",
              "    </tr>\n",
              "    <tr>\n",
              "      <th>min</th>\n",
              "      <td>8638.930895</td>\n",
              "      <td>266.000000</td>\n",
              "      <td>4.000000</td>\n",
              "      <td>1.600000</td>\n",
              "      <td>2.000000</td>\n",
              "      <td>0.000000</td>\n",
              "      <td>0.000000</td>\n",
              "      <td>0.000000</td>\n",
              "    </tr>\n",
              "    <tr>\n",
              "      <th>25%</th>\n",
              "      <td>14273.073870</td>\n",
              "      <td>14623.500000</td>\n",
              "      <td>4.000000</td>\n",
              "      <td>2.200000</td>\n",
              "      <td>4.000000</td>\n",
              "      <td>1.000000</td>\n",
              "      <td>0.000000</td>\n",
              "      <td>0.000000</td>\n",
              "    </tr>\n",
              "    <tr>\n",
              "      <th>50%</th>\n",
              "      <td>18024.995019</td>\n",
              "      <td>20913.500000</td>\n",
              "      <td>6.000000</td>\n",
              "      <td>2.800000</td>\n",
              "      <td>4.000000</td>\n",
              "      <td>1.000000</td>\n",
              "      <td>1.000000</td>\n",
              "      <td>1.000000</td>\n",
              "    </tr>\n",
              "    <tr>\n",
              "      <th>75%</th>\n",
              "      <td>26717.316636</td>\n",
              "      <td>25213.000000</td>\n",
              "      <td>6.000000</td>\n",
              "      <td>3.800000</td>\n",
              "      <td>4.000000</td>\n",
              "      <td>1.000000</td>\n",
              "      <td>1.000000</td>\n",
              "      <td>1.000000</td>\n",
              "    </tr>\n",
              "    <tr>\n",
              "      <th>max</th>\n",
              "      <td>70755.466717</td>\n",
              "      <td>50387.000000</td>\n",
              "      <td>8.000000</td>\n",
              "      <td>6.000000</td>\n",
              "      <td>4.000000</td>\n",
              "      <td>1.000000</td>\n",
              "      <td>1.000000</td>\n",
              "      <td>1.000000</td>\n",
              "    </tr>\n",
              "  </tbody>\n",
              "</table>\n",
              "</div>\n",
              "      <button class=\"colab-df-convert\" onclick=\"convertToInteractive('df-0b08e063-29af-4da7-b26b-f3b95b185236')\"\n",
              "              title=\"Convert this dataframe to an interactive table.\"\n",
              "              style=\"display:none;\">\n",
              "        \n",
              "  <svg xmlns=\"http://www.w3.org/2000/svg\" height=\"24px\"viewBox=\"0 0 24 24\"\n",
              "       width=\"24px\">\n",
              "    <path d=\"M0 0h24v24H0V0z\" fill=\"none\"/>\n",
              "    <path d=\"M18.56 5.44l.94 2.06.94-2.06 2.06-.94-2.06-.94-.94-2.06-.94 2.06-2.06.94zm-11 1L8.5 8.5l.94-2.06 2.06-.94-2.06-.94L8.5 2.5l-.94 2.06-2.06.94zm10 10l.94 2.06.94-2.06 2.06-.94-2.06-.94-.94-2.06-.94 2.06-2.06.94z\"/><path d=\"M17.41 7.96l-1.37-1.37c-.4-.4-.92-.59-1.43-.59-.52 0-1.04.2-1.43.59L10.3 9.45l-7.72 7.72c-.78.78-.78 2.05 0 2.83L4 21.41c.39.39.9.59 1.41.59.51 0 1.02-.2 1.41-.59l7.78-7.78 2.81-2.81c.8-.78.8-2.07 0-2.86zM5.41 20L4 18.59l7.72-7.72 1.47 1.35L5.41 20z\"/>\n",
              "  </svg>\n",
              "      </button>\n",
              "      \n",
              "  <style>\n",
              "    .colab-df-container {\n",
              "      display:flex;\n",
              "      flex-wrap:wrap;\n",
              "      gap: 12px;\n",
              "    }\n",
              "\n",
              "    .colab-df-convert {\n",
              "      background-color: #E8F0FE;\n",
              "      border: none;\n",
              "      border-radius: 50%;\n",
              "      cursor: pointer;\n",
              "      display: none;\n",
              "      fill: #1967D2;\n",
              "      height: 32px;\n",
              "      padding: 0 0 0 0;\n",
              "      width: 32px;\n",
              "    }\n",
              "\n",
              "    .colab-df-convert:hover {\n",
              "      background-color: #E2EBFA;\n",
              "      box-shadow: 0px 1px 2px rgba(60, 64, 67, 0.3), 0px 1px 3px 1px rgba(60, 64, 67, 0.15);\n",
              "      fill: #174EA6;\n",
              "    }\n",
              "\n",
              "    [theme=dark] .colab-df-convert {\n",
              "      background-color: #3B4455;\n",
              "      fill: #D2E3FC;\n",
              "    }\n",
              "\n",
              "    [theme=dark] .colab-df-convert:hover {\n",
              "      background-color: #434B5C;\n",
              "      box-shadow: 0px 1px 3px 1px rgba(0, 0, 0, 0.15);\n",
              "      filter: drop-shadow(0px 1px 2px rgba(0, 0, 0, 0.3));\n",
              "      fill: #FFFFFF;\n",
              "    }\n",
              "  </style>\n",
              "\n",
              "      <script>\n",
              "        const buttonEl =\n",
              "          document.querySelector('#df-0b08e063-29af-4da7-b26b-f3b95b185236 button.colab-df-convert');\n",
              "        buttonEl.style.display =\n",
              "          google.colab.kernel.accessAllowed ? 'block' : 'none';\n",
              "\n",
              "        async function convertToInteractive(key) {\n",
              "          const element = document.querySelector('#df-0b08e063-29af-4da7-b26b-f3b95b185236');\n",
              "          const dataTable =\n",
              "            await google.colab.kernel.invokeFunction('convertToInteractive',\n",
              "                                                     [key], {});\n",
              "          if (!dataTable) return;\n",
              "\n",
              "          const docLinkHtml = 'Like what you see? Visit the ' +\n",
              "            '<a target=\"_blank\" href=https://colab.research.google.com/notebooks/data_table.ipynb>data table notebook</a>'\n",
              "            + ' to learn more about interactive tables.';\n",
              "          element.innerHTML = '';\n",
              "          dataTable['output_type'] = 'display_data';\n",
              "          await google.colab.output.renderOutput(dataTable, element);\n",
              "          const docLink = document.createElement('div');\n",
              "          docLink.innerHTML = docLinkHtml;\n",
              "          element.appendChild(docLink);\n",
              "        }\n",
              "      </script>\n",
              "    </div>\n",
              "  </div>\n",
              "  "
            ]
          },
          "metadata": {},
          "execution_count": 18
        }
      ]
    },
    {
      "cell_type": "markdown",
      "source": [],
      "metadata": {
        "id": "1oyMVddRM2h4"
      }
    },
    {
      "cell_type": "markdown",
      "source": [
        "# **cleaning the completed next step is EDA**"
      ],
      "metadata": {
        "id": "ybRFPVXNM2ni"
      }
    },
    {
      "cell_type": "markdown",
      "source": [
        "#***2) EDA***"
      ],
      "metadata": {
        "id": "bbnHYs65NwUY"
      }
    },
    {
      "cell_type": "code",
      "source": [
        "for i in cont_col:\n",
        "  sns.displot(df,x=i)"
      ],
      "metadata": {
        "colab": {
          "base_uri": "https://localhost:8080/",
          "height": 1000
        },
        "id": "XCl-KAcaSH0k",
        "outputId": "5ea99c32-7da4-4352-8c25-e0615d7ce06c"
      },
      "execution_count": 19,
      "outputs": [
        {
          "output_type": "display_data",
          "data": {
            "text/plain": [
              "<Figure size 360x360 with 1 Axes>"
            ],
            "image/png": "[encoded data removed]"
          },
          "metadata": {
            "needs_background": "light"
          }
        },
        {
          "output_type": "display_data",
          "data": {
            "text/plain": [
              "<Figure size 360x360 with 1 Axes>"
            ],
            "image/png": "[encoded data removed]"
          },
          "metadata": {
            "needs_background": "light"
          }
        },
        {
          "output_type": "display_data",
          "data": {
            "text/plain": [
              "<Figure size 360x360 with 1 Axes>"
            ],
            "image/png": "[encoded data removed]"
          },
          "metadata": {
            "needs_background": "light"
          }
        },
        {
          "output_type": "display_data",
          "data": {
            "text/plain": [
              "<Figure size 360x360 with 1 Axes>"
            ],
            "image/png": "[encoded data removed]"
          },
          "metadata": {
            "needs_background": "light"
          }
        },
        {
          "output_type": "display_data",
          "data": {
            "text/plain": [
              "<Figure size 360x360 with 1 Axes>"
            ],
            "image/png": "[encoded data removed]"
          },
          "metadata": {
            "needs_background": "light"
          }
        },
        {
          "output_type": "display_data",
          "data": {
            "text/plain": [
              "<Figure size 360x360 with 1 Axes>"
            ],
            "image/png": "[encoded data removed]"
          },
          "metadata": {
            "needs_background": "light"
          }
        },
        {
          "output_type": "display_data",
          "data": {
            "text/plain": [
              "<Figure size 360x360 with 1 Axes>"
            ],
            "image/png": "[encoded data removed]"
          },
          "metadata": {
            "needs_background": "light"
          }
        }
      ]
    },
    {
      "cell_type": "code",
      "source": [
        "for i in cont_col:\n",
        "  df.groupby(i)['Price'].mean().plot(style='o', figsize=(12,10))\n",
        "  #df.plot(x=i,y='Price',style='o', figsize=(12,10))\n",
        "  plt.xlabel(i)\n",
        "  plt.ylabel('Price')\n",
        "  plt.show()"
      ],
      "metadata": {
        "colab": {
          "base_uri": "https://localhost:8080/",
          "height": 1000
        },
        "id": "DiES4eUHcegi",
        "outputId": "1ac4073e-e084-45e2-8391-c094c6fccfc7"
      },
      "execution_count": 20,
      "outputs": [
        {
          "output_type": "display_data",
          "data": {
            "text/plain": [
              "<Figure size 864x720 with 1 Axes>"
            ],
            "image/png": "[encoded data removed]"
          },
          "metadata": {
            "needs_background": "light"
          }
        },
        {
          "output_type": "display_data",
          "data": {
            "text/plain": [
              "<Figure size 864x720 with 1 Axes>"
            ],
            "image/png": "[encoded data removed]"
          },
          "metadata": {
            "needs_background": "light"
          }
        },
        {
          "output_type": "display_data",
          "data": {
            "text/plain": [
              "<Figure size 864x720 with 1 Axes>"
            ],
            "image/png": "[encoded data removed]"
          },
          "metadata": {
            "needs_background": "light"
          }
        },
        {
          "output_type": "display_data",
          "data": {
            "text/plain": [
              "<Figure size 864x720 with 1 Axes>"
            ],
            "image/png": "[encoded data removed]"
          },
          "metadata": {
            "needs_background": "light"
          }
        },
        {
          "output_type": "display_data",
          "data": {
            "text/plain": [
              "<Figure size 864x720 with 1 Axes>"
            ],
            "image/png": "[encoded data removed]"
          },
          "metadata": {
            "needs_background": "light"
          }
        },
        {
          "output_type": "display_data",
          "data": {
            "text/plain": [
              "<Figure size 864x720 with 1 Axes>"
            ],
            "image/png": "[encoded data removed]"
          },
          "metadata": {
            "needs_background": "light"
          }
        },
        {
          "output_type": "display_data",
          "data": {
            "text/plain": [
              "<Figure size 864x720 with 1 Axes>"
            ],
            "image/png": "[encoded data removed]"
          },
          "metadata": {
            "needs_background": "light"
          }
        }
      ]
    },
    {
      "cell_type": "code",
      "source": [],
      "metadata": {
        "id": "0gprEYdhceoJ"
      },
      "execution_count": 20,
      "outputs": []
    },
    {
      "cell_type": "code",
      "source": [
        "plt.figure(figsize=(20, 10))\n",
        "sns.heatmap(df.corr().abs(), annot=True)"
      ],
      "metadata": {
        "colab": {
          "base_uri": "https://localhost:8080/",
          "height": 613
        },
        "id": "xUTIKbePNe2M",
        "outputId": "d0dd4310-4f34-4a8b-ae21-f46e99d755d3"
      },
      "execution_count": 21,
      "outputs": [
        {
          "output_type": "execute_result",
          "data": {
            "text/plain": [
              "<matplotlib.axes._subplots.AxesSubplot at 0x7f0cf545a310>"
            ]
          },
          "metadata": {},
          "execution_count": 21
        },
        {
          "output_type": "display_data",
          "data": {
            "text/plain": [
              "<Figure size 1440x720 with 2 Axes>"
            ],
            "image/png": "[encoded data removed]"
          },
          "metadata": {
            "needs_background": "light"
          }
        }
      ]
    },
    {
      "cell_type": "code",
      "source": [
        "for i in cont_col:\n",
        "  print(df[[i,'Price']].corr())"
      ],
      "metadata": {
        "colab": {
          "base_uri": "https://localhost:8080/"
        },
        "id": "Kg1ScbxWwO3Z",
        "outputId": "e7a0f2b4-5f02-42a5-e0a7-da59b08f288d"
      },
      "execution_count": 22,
      "outputs": [
        {
          "output_type": "stream",
          "name": "stdout",
          "text": [
            "          Mileage     Price\n",
            "Mileage  1.000000 -0.143051\n",
            "Price   -0.143051  1.000000\n",
            "          Cylinder     Price\n",
            "Cylinder  1.000000  0.569086\n",
            "Price     0.569086  1.000000\n",
            "          Liter     Price\n",
            "Liter  1.000000  0.558146\n",
            "Price  0.558146  1.000000\n",
            "         Doors    Price\n",
            "Doors  1.00000 -0.13875\n",
            "Price -0.13875  1.00000\n",
            "          Cruise     Price\n",
            "Cruise  1.000000  0.430851\n",
            "Price   0.430851  1.000000\n",
            "          Sound     Price\n",
            "Sound  1.000000 -0.124348\n",
            "Price -0.124348  1.000000\n",
            "          Leather     Price\n",
            "Leather  1.000000  0.157197\n",
            "Price    0.157197  1.000000\n"
          ]
        }
      ]
    },
    {
      "cell_type": "markdown",
      "source": [
        "# ***find the linear regerssion for mileage and Price***"
      ],
      "metadata": {
        "id": "MjBoCLvWyC-b"
      }
    },
    {
      "cell_type": "code",
      "source": [
        "df['transformed'] = np.log(df['Mileage']) # transformation\n",
        "df.plot(x='transformed', y='Price', style='o')\n",
        "plt.title('Mileage vs Price')\n",
        "plt.xlabel('Mileage')\n",
        "plt.ylabel('Price')\n",
        "plt.show()"
      ],
      "metadata": {
        "colab": {
          "base_uri": "https://localhost:8080/",
          "height": 295
        },
        "id": "VzR2Iz3vBoUd",
        "outputId": "ece169df-980b-44e2-8c88-2cae40fda1f9"
      },
      "execution_count": 23,
      "outputs": [
        {
          "output_type": "display_data",
          "data": {
            "text/plain": [
              "<Figure size 432x288 with 1 Axes>"
            ],
            "image/png": "[encoded data removed]"
          },
          "metadata": {
            "needs_background": "light"
          }
        }
      ]
    },
    {
      "cell_type": "code",
      "source": [
        "df[['transformed','Price']].corr()"
      ],
      "metadata": {
        "colab": {
          "base_uri": "https://localhost:8080/",
          "height": 112
        },
        "id": "Ij3Q5p9PDenU",
        "outputId": "27fd61b7-0408-476a-ffbf-e596564ed6ae"
      },
      "execution_count": 24,
      "outputs": [
        {
          "output_type": "execute_result",
          "data": {
            "text/plain": [
              "             transformed     Price\n",
              "transformed     1.000000 -0.145424\n",
              "Price          -0.145424  1.000000"
            ],
            "text/html": [
              "\n",
              "  <div id=\"df-dc9e1081-7be8-4d16-a4bb-5a805e4c4226\">\n",
              "    <div class=\"colab-df-container\">\n",
              "      <div>\n",
              "<style scoped>\n",
              "    .dataframe tbody tr th:only-of-type {\n",
              "        vertical-align: middle;\n",
              "    }\n",
              "\n",
              "    .dataframe tbody tr th {\n",
              "        vertical-align: top;\n",
              "    }\n",
              "\n",
              "    .dataframe thead th {\n",
              "        text-align: right;\n",
              "    }\n",
              "</style>\n",
              "<table border=\"1\" class=\"dataframe\">\n",
              "  <thead>\n",
              "    <tr style=\"text-align: right;\">\n",
              "      <th></th>\n",
              "      <th>transformed</th>\n",
              "      <th>Price</th>\n",
              "    </tr>\n",
              "  </thead>\n",
              "  <tbody>\n",
              "    <tr>\n",
              "      <th>transformed</th>\n",
              "      <td>1.000000</td>\n",
              "      <td>-0.145424</td>\n",
              "    </tr>\n",
              "    <tr>\n",
              "      <th>Price</th>\n",
              "      <td>-0.145424</td>\n",
              "      <td>1.000000</td>\n",
              "    </tr>\n",
              "  </tbody>\n",
              "</table>\n",
              "</div>\n",
              "      <button class=\"colab-df-convert\" onclick=\"convertToInteractive('df-dc9e1081-7be8-4d16-a4bb-5a805e4c4226')\"\n",
              "              title=\"Convert this dataframe to an interactive table.\"\n",
              "              style=\"display:none;\">\n",
              "        \n",
              "  <svg xmlns=\"http://www.w3.org/2000/svg\" height=\"24px\"viewBox=\"0 0 24 24\"\n",
              "       width=\"24px\">\n",
              "    <path d=\"M0 0h24v24H0V0z\" fill=\"none\"/>\n",
              "    <path d=\"M18.56 5.44l.94 2.06.94-2.06 2.06-.94-2.06-.94-.94-2.06-.94 2.06-2.06.94zm-11 1L8.5 8.5l.94-2.06 2.06-.94-2.06-.94L8.5 2.5l-.94 2.06-2.06.94zm10 10l.94 2.06.94-2.06 2.06-.94-2.06-.94-.94-2.06-.94 2.06-2.06.94z\"/><path d=\"M17.41 7.96l-1.37-1.37c-.4-.4-.92-.59-1.43-.59-.52 0-1.04.2-1.43.59L10.3 9.45l-7.72 7.72c-.78.78-.78 2.05 0 2.83L4 21.41c.39.39.9.59 1.41.59.51 0 1.02-.2 1.41-.59l7.78-7.78 2.81-2.81c.8-.78.8-2.07 0-2.86zM5.41 20L4 18.59l7.72-7.72 1.47 1.35L5.41 20z\"/>\n",
              "  </svg>\n",
              "      </button>\n",
              "      \n",
              "  <style>\n",
              "    .colab-df-container {\n",
              "      display:flex;\n",
              "      flex-wrap:wrap;\n",
              "      gap: 12px;\n",
              "    }\n",
              "\n",
              "    .colab-df-convert {\n",
              "      background-color: #E8F0FE;\n",
              "      border: none;\n",
              "      border-radius: 50%;\n",
              "      cursor: pointer;\n",
              "      display: none;\n",
              "      fill: #1967D2;\n",
              "      height: 32px;\n",
              "      padding: 0 0 0 0;\n",
              "      width: 32px;\n",
              "    }\n",
              "\n",
              "    .colab-df-convert:hover {\n",
              "      background-color: #E2EBFA;\n",
              "      box-shadow: 0px 1px 2px rgba(60, 64, 67, 0.3), 0px 1px 3px 1px rgba(60, 64, 67, 0.15);\n",
              "      fill: #174EA6;\n",
              "    }\n",
              "\n",
              "    [theme=dark] .colab-df-convert {\n",
              "      background-color: #3B4455;\n",
              "      fill: #D2E3FC;\n",
              "    }\n",
              "\n",
              "    [theme=dark] .colab-df-convert:hover {\n",
              "      background-color: #434B5C;\n",
              "      box-shadow: 0px 1px 3px 1px rgba(0, 0, 0, 0.15);\n",
              "      filter: drop-shadow(0px 1px 2px rgba(0, 0, 0, 0.3));\n",
              "      fill: #FFFFFF;\n",
              "    }\n",
              "  </style>\n",
              "\n",
              "      <script>\n",
              "        const buttonEl =\n",
              "          document.querySelector('#df-dc9e1081-7be8-4d16-a4bb-5a805e4c4226 button.colab-df-convert');\n",
              "        buttonEl.style.display =\n",
              "          google.colab.kernel.accessAllowed ? 'block' : 'none';\n",
              "\n",
              "        async function convertToInteractive(key) {\n",
              "          const element = document.querySelector('#df-dc9e1081-7be8-4d16-a4bb-5a805e4c4226');\n",
              "          const dataTable =\n",
              "            await google.colab.kernel.invokeFunction('convertToInteractive',\n",
              "                                                     [key], {});\n",
              "          if (!dataTable) return;\n",
              "\n",
              "          const docLinkHtml = 'Like what you see? Visit the ' +\n",
              "            '<a target=\"_blank\" href=https://colab.research.google.com/notebooks/data_table.ipynb>data table notebook</a>'\n",
              "            + ' to learn more about interactive tables.';\n",
              "          element.innerHTML = '';\n",
              "          dataTable['output_type'] = 'display_data';\n",
              "          await google.colab.output.renderOutput(dataTable, element);\n",
              "          const docLink = document.createElement('div');\n",
              "          docLink.innerHTML = docLinkHtml;\n",
              "          element.appendChild(docLink);\n",
              "        }\n",
              "      </script>\n",
              "    </div>\n",
              "  </div>\n",
              "  "
            ]
          },
          "metadata": {},
          "execution_count": 24
        }
      ]
    },
    {
      "cell_type": "markdown",
      "source": [
        "# ***All transformed column is not give linear relation to target variable***"
      ],
      "metadata": {
        "id": "o_s3EtOSD9sq"
      }
    },
    {
      "cell_type": "markdown",
      "source": [
        "#***3)encoding***\n",
        "\n",
        "#***encoding is not needed for this data because this data not contains any catagorical datas.***"
      ],
      "metadata": {
        "id": "CkmgiOxkNDuZ"
      }
    },
    {
      "cell_type": "markdown",
      "source": [
        "# ***4) splitting the data for train and test***"
      ],
      "metadata": {
        "id": "-CrPXgiJShSY"
      }
    },
    {
      "cell_type": "code",
      "source": [
        "from sklearn.model_selection import train_test_split # import necessasary package"
      ],
      "metadata": {
        "id": "RF_bG7jSNB7m"
      },
      "execution_count": 25,
      "outputs": []
    },
    {
      "cell_type": "code",
      "source": [
        "X=df.loc[:,['Mileage']]\n",
        "y=df.loc[:,'Price']"
      ],
      "metadata": {
        "id": "MN5WCo-cgE-z"
      },
      "execution_count": 26,
      "outputs": []
    },
    {
      "cell_type": "code",
      "source": [
        "X_train, X_test, y_train, y_test = train_test_split(X,y,test_size=0.2,random_state=1977)\n",
        "print(X_train)\n",
        "print(X_test)\n",
        "print(y_train)\n",
        "print(y_test)"
      ],
      "metadata": {
        "id": "gazuV8U4TtEc",
        "colab": {
          "base_uri": "https://localhost:8080/"
        },
        "outputId": "d7cdecfc-c56a-48f5-d9ce-20a48813fe41"
      },
      "execution_count": 27,
      "outputs": [
        {
          "output_type": "stream",
          "name": "stdout",
          "text": [
            "     Mileage\n",
            "88     25199\n",
            "321     9882\n",
            "640     3907\n",
            "294    22382\n",
            "117    26250\n",
            "..       ...\n",
            "707    25380\n",
            "429    28239\n",
            "476    25020\n",
            "791    32619\n",
            "179    37345\n",
            "\n",
            "[643 rows x 1 columns]\n",
            "     Mileage\n",
            "246    25069\n",
            "190     7278\n",
            "684    14568\n",
            "13     19800\n",
            "460     7065\n",
            "..       ...\n",
            "723    22021\n",
            "343    14546\n",
            "639    35157\n",
            "571     2189\n",
            "657    27558\n",
            "\n",
            "[161 rows x 1 columns]\n",
            "88     43374.052420\n",
            "321    16428.578981\n",
            "640    29246.237335\n",
            "294    12845.174249\n",
            "117    36245.158228\n",
            "           ...     \n",
            "707    28678.075251\n",
            "429    16295.211438\n",
            "476    21525.339008\n",
            "791    11413.530403\n",
            "179     9954.054174\n",
            "Name: Price, Length: 643, dtype: float64\n",
            "246    12383.402811\n",
            "190    11918.456068\n",
            "684    30122.429735\n",
            "13     19924.159052\n",
            "460    21745.029441\n",
            "           ...     \n",
            "723    28204.603578\n",
            "343    42773.028390\n",
            "639    27666.231078\n",
            "571    19567.259291\n",
            "657    30251.018417\n",
            "Name: Price, Length: 161, dtype: float64\n"
          ]
        }
      ]
    },
    {
      "cell_type": "markdown",
      "source": [
        "# ***5)scaling the data***"
      ],
      "metadata": {
        "id": "-QjjgpjYU3vD"
      }
    },
    {
      "cell_type": "code",
      "source": [
        "from sklearn.preprocessing import StandardScaler"
      ],
      "metadata": {
        "id": "nGQOcKO1VBqs"
      },
      "execution_count": 28,
      "outputs": []
    },
    {
      "cell_type": "code",
      "source": [
        "scaler=StandardScaler()\n",
        "#X_train=X_train.reshape(-1,1)\n",
        "#X_test=X_test.reshape(-1,1)"
      ],
      "metadata": {
        "id": "cIf6dOVNVcjg"
      },
      "execution_count": 29,
      "outputs": []
    },
    {
      "cell_type": "code",
      "source": [
        "scaler.fit(X_train) # scaling is not mandatory for linear regression\n",
        "X_train_scale=scaler.transform(X_train)\n",
        "X_test_scale=scaler.transform(X_test)"
      ],
      "metadata": {
        "id": "IpkJkPwgVlZZ"
      },
      "execution_count": 30,
      "outputs": []
    },
    {
      "cell_type": "markdown",
      "source": [
        "# ***2nd jar is task***\n",
        "\n",
        "**this is supervised learning problem because we predict the target variable**\n",
        "\n",
        "**feature is continous data so it is regression problem**"
      ],
      "metadata": {
        "id": "Dbjs-LSaU3z6"
      }
    },
    {
      "cell_type": "markdown",
      "source": [
        "# ***3rd jar - model (linear regression***\n",
        "\n",
        "\n",
        "# ***4th jar - loss function***\n",
        "# ***5th jar - learning***\n",
        "\n",
        "\n",
        "---\n",
        "\n",
        "\n",
        "\n"
      ],
      "metadata": {
        "id": "YWMgUPeKYRTZ"
      }
    },
    {
      "cell_type": "code",
      "source": [
        "from sklearn.linear_model import LinearRegression"
      ],
      "metadata": {
        "id": "YiCIubLXY0qW"
      },
      "execution_count": 31,
      "outputs": []
    },
    {
      "cell_type": "code",
      "source": [
        "reg=LinearRegression()\n",
        "reg.fit(X_train, y_train)"
      ],
      "metadata": {
        "colab": {
          "base_uri": "https://localhost:8080/"
        },
        "id": "bYrWyS7DZGN2",
        "outputId": "0882ec27-f96e-4e3c-ae30-44dc76a5253d"
      },
      "execution_count": 32,
      "outputs": [
        {
          "output_type": "execute_result",
          "data": {
            "text/plain": [
              "LinearRegression()"
            ]
          },
          "metadata": {},
          "execution_count": 32
        }
      ]
    },
    {
      "cell_type": "code",
      "source": [
        "coeff_df=reg.coef_  # best value of m\n",
        "coeff_df"
      ],
      "metadata": {
        "colab": {
          "base_uri": "https://localhost:8080/"
        },
        "id": "nr0T6Nk3ZGRn",
        "outputId": "5f9afa2b-8a2b-4a83-baa9-85acdaffad03"
      },
      "execution_count": 33,
      "outputs": [
        {
          "output_type": "execute_result",
          "data": {
            "text/plain": [
              "array([-0.18252667])"
            ]
          },
          "metadata": {},
          "execution_count": 33
        }
      ]
    },
    {
      "cell_type": "code",
      "source": [
        "reg.intercept_ # best value of c"
      ],
      "metadata": {
        "colab": {
          "base_uri": "https://localhost:8080/"
        },
        "id": "cHL6tTSIa3JG",
        "outputId": "f44faffc-3a1e-4bec-d4cf-77ef1a8e25e2"
      },
      "execution_count": 34,
      "outputs": [
        {
          "output_type": "execute_result",
          "data": {
            "text/plain": [
              "24819.26165800223"
            ]
          },
          "metadata": {},
          "execution_count": 34
        }
      ]
    },
    {
      "cell_type": "code",
      "source": [
        "y_predict=reg.predict(X_test)\n",
        "y_predict"
      ],
      "metadata": {
        "colab": {
          "base_uri": "https://localhost:8080/"
        },
        "id": "3mxQGGNFa3NJ",
        "outputId": "7e45d0a6-b5b4-4b4e-d516-5f9fd8d77509"
      },
      "execution_count": 35,
      "outputs": [
        {
          "output_type": "execute_result",
          "data": {
            "text/plain": [
              "array([20243.50052742, 23490.83254203, 22160.213106  , 21205.23356013,\n",
              "       23529.71072308, 19802.69861549, 24502.21282942, 23318.7098907 ,\n",
              "       18633.06770381, 18309.99549506, 20248.7938009 , 20652.90785184,\n",
              "       22553.74060999, 19583.84913623, 19344.92172309, 24293.76737044,\n",
              "       19929.73717893, 20840.72779693, 20202.24949964, 22879.91577215,\n",
              "       21483.221681  , 19811.09484238, 22120.05723824, 21266.01494178,\n",
              "       20862.99605087, 20809.88078943, 18578.492229  , 22179.74345986,\n",
              "       20211.01077988, 20013.69944787, 19466.66701305, 20484.61826062,\n",
              "       20584.64287666, 21706.63432705, 21596.57074406, 17027.01552032,\n",
              "       21333.91486362, 21063.77538964, 19074.96477578, 23880.34445924,\n",
              "       23936.5626741 , 20445.37502622, 19930.10223227, 21195.55964654,\n",
              "       21016.13592835, 20726.4661005 , 22619.45021176, 20919.21426572,\n",
              "       21075.27456995, 21199.39270664, 23863.00442544, 20389.33933804,\n",
              "       20119.92997074, 19638.24208437, 21891.35131871, 23614.95067872,\n",
              "       20317.24130275, 21002.62895465, 21017.41361505, 21712.65770721,\n",
              "       20226.34302029, 24397.99009993, 21635.08387177, 22809.09542357,\n",
              "       24099.01141183, 21471.90502736, 20171.40249214, 19768.01854788,\n",
              "       21516.25900856, 20443.00217949, 23074.12415074, 20914.28604559,\n",
              "       20598.5149037 , 20923.95995918, 19945.79952603, 22955.11676085,\n",
              "       23181.99741367, 20470.38118023, 21367.68229787, 20816.63427628,\n",
              "       24113.43101889, 21608.61750439, 19931.37991897, 20179.25113902,\n",
              "       21348.69952402, 22975.3772214 , 20871.7573311 , 21476.28566747,\n",
              "       21367.68229787, 18811.57878865, 19759.43979432, 19016.55624086,\n",
              "       23189.66353387, 20562.19209605, 24063.2361842 , 22158.20531261,\n",
              "       20391.34713143, 19478.53124671, 18581.41265575, 22242.89768823,\n",
              "       23246.79438209, 21071.98908986, 20123.3979775 , 20408.8696919 ,\n",
              "       21564.8111032 , 23787.43838339, 23649.44821966, 22195.25822694,\n",
              "       20379.66542444, 21884.59783186, 19643.90041119, 21557.51003634,\n",
              "       20694.52393297, 19599.36390331, 18732.90979318, 23031.41290959,\n",
              "       23962.2989348 , 22543.88416972, 19851.25071013, 20915.74625896,\n",
              "       20581.53992324, 20964.11582694, 21440.51043984, 20599.06248372,\n",
              "       21658.44728574, 20194.21832609, 19124.61203046, 23355.94533171,\n",
              "       17725.18003923, 22739.73528836, 20909.90540547, 20596.87216366,\n",
              "       21971.84558089, 24607.53071894, 22761.63848895, 20751.28972784,\n",
              "       20754.02762792, 21916.5399994 , 23423.84525355, 22212.59826075,\n",
              "       20023.92094148, 21187.34594632, 17708.38758544, 22863.12331836,\n",
              "       21869.08306478, 20185.45704585, 19041.3798682 , 20860.62320414,\n",
              "       24004.64512261, 19749.40082738, 23378.76116566, 22782.99410953,\n",
              "       21863.60726463, 21220.74832722, 20979.08301401, 21287.91814237,\n",
              "       20799.84182249, 22164.22869277, 18402.17146423, 24419.71077385,\n",
              "       19789.19164179])"
            ]
          },
          "metadata": {},
          "execution_count": 35
        }
      ]
    },
    {
      "cell_type": "markdown",
      "source": [
        "# ***6th jar - evalute the model***"
      ],
      "metadata": {
        "id": "gg2oRo-OhGUJ"
      }
    },
    {
      "cell_type": "code",
      "source": [
        "from sklearn import metrics\n",
        "print(\"R2 score is :\",metrics.r2_score(y_test,y_predict))"
      ],
      "metadata": {
        "colab": {
          "base_uri": "https://localhost:8080/"
        },
        "id": "sUSzCcfEdmVv",
        "outputId": "5bbcc9b3-392b-40ae-9477-ee3fc46ec229"
      },
      "execution_count": 36,
      "outputs": [
        {
          "output_type": "stream",
          "name": "stdout",
          "text": [
            "R2 score is : 0.005727582991958968\n"
          ]
        }
      ]
    },
    {
      "cell_type": "code",
      "source": [
        "reg.score(X_test,y_test)"
      ],
      "metadata": {
        "colab": {
          "base_uri": "https://localhost:8080/"
        },
        "id": "9rUuYLSRi1tO",
        "outputId": "bccacffa-21ff-4356-bb4e-ce6597e33f44"
      },
      "execution_count": 37,
      "outputs": [
        {
          "output_type": "execute_result",
          "data": {
            "text/plain": [
              "0.005727582991958968"
            ]
          },
          "metadata": {},
          "execution_count": 37
        }
      ]
    },
    {
      "cell_type": "code",
      "source": [
        "plt.scatter(X_test, y_test, color='g')\n",
        "plt.plot(X_test,y_predict)\n",
        "plt.xlabel('Mileage')\n",
        "plt.ylabel('Price')\n",
        "plt.title('Mileage vs Price')"
      ],
      "metadata": {
        "colab": {
          "base_uri": "https://localhost:8080/",
          "height": 312
        },
        "id": "bnPiqg9TclyW",
        "outputId": "4e8695f4-1ec9-42d6-ceb4-4379acd29ac0"
      },
      "execution_count": 38,
      "outputs": [
        {
          "output_type": "execute_result",
          "data": {
            "text/plain": [
              "Text(0.5, 1.0, 'Mileage vs Price')"
            ]
          },
          "metadata": {},
          "execution_count": 38
        },
        {
          "output_type": "display_data",
          "data": {
            "text/plain": [
              "<Figure size 432x288 with 1 Axes>"
            ],
            "image/png": "[encoded data removed]"
          },
          "metadata": {
            "needs_background": "light"
          }
        }
      ]
    },
    {
      "cell_type": "markdown",
      "source": [
        "# ***Part 2***\n",
        "\n",
        "1. Use mileage, cylinders, liters, doors, cruise, sound, and leather to find the linear regression equation.\n",
        "2. Find the equation's $R^2$ score (use the `.score` method) to determine whether the\n",
        "equation is a good fit for this data. (0.8 and greater is considered a strong correlation.)\n",
        "3. Find the combination of the factors that is the best predictor for price.\n"
      ],
      "metadata": {
        "id": "KAsKk5GYG8qq"
      }
    },
    {
      "cell_type": "markdown",
      "source": [
        "# ***Now we take each 2 column get best R2 value"
      ],
      "metadata": {
        "id": "TI3EEMRYG8vi"
      }
    },
    {
      "cell_type": "code",
      "source": [
        "df.info()"
      ],
      "metadata": {
        "colab": {
          "base_uri": "https://localhost:8080/"
        },
        "id": "Io0ZC13R7lOX",
        "outputId": "d842058b-cd42-4b50-c129-8155c09bf9c3"
      },
      "execution_count": 39,
      "outputs": [
        {
          "output_type": "stream",
          "name": "stdout",
          "text": [
            "<class 'pandas.core.frame.DataFrame'>\n",
            "Int64Index: 804 entries, 0 to 803\n",
            "Data columns (total 13 columns):\n",
            " #   Column       Non-Null Count  Dtype  \n",
            "---  ------       --------------  -----  \n",
            " 0   Price        804 non-null    float64\n",
            " 1   Mileage      804 non-null    int64  \n",
            " 2   Make         804 non-null    object \n",
            " 3   Model        804 non-null    object \n",
            " 4   Trim         804 non-null    object \n",
            " 5   Type         804 non-null    object \n",
            " 6   Cylinder     804 non-null    int64  \n",
            " 7   Liter        804 non-null    float64\n",
            " 8   Doors        804 non-null    int64  \n",
            " 9   Cruise       804 non-null    int64  \n",
            " 10  Sound        804 non-null    int64  \n",
            " 11  Leather      804 non-null    int64  \n",
            " 12  transformed  804 non-null    float64\n",
            "dtypes: float64(3), int64(6), object(4)\n",
            "memory usage: 120.2+ KB\n"
          ]
        }
      ]
    },
    {
      "cell_type": "code",
      "source": [
        "X=df.loc[:,['Mileage','Cylinder','Liter','Doors','Cruise','Sound','Leather']]\n",
        "y=df.loc[:,'Price']"
      ],
      "metadata": {
        "id": "kktsil6XHzld"
      },
      "execution_count": 40,
      "outputs": []
    },
    {
      "cell_type": "code",
      "source": [
        "X_train,X_test,y_train,y_test=train_test_split(X,y,test_size=0.3,random_state=107)\n",
        "print(X_train)\n",
        "print(X_test)\n",
        "print(y_train)\n",
        "print(y_test)"
      ],
      "metadata": {
        "colab": {
          "base_uri": "https://localhost:8080/"
        },
        "id": "Cm6quyoZHzp9",
        "outputId": "1cbc72bb-d52c-434b-df87-d40112582535"
      },
      "execution_count": 41,
      "outputs": [
        {
          "output_type": "stream",
          "name": "stdout",
          "text": [
            "     Mileage  Cylinder  Liter  Doors  Cruise  Sound  Leather\n",
            "378    31202         6    3.8      4       1      1        1\n",
            "787    28298         4    2.2      4       0      1        0\n",
            "704    22105         4    2.3      4       1      0        1\n",
            "437    21452         6    3.5      4       0      1        1\n",
            "797    10986         6    3.0      4       1      0        0\n",
            "..       ...       ...    ...    ...     ...    ...      ...\n",
            "654    22479         4    2.0      2       1      0        0\n",
            "454    15898         6    3.8      2       1      0        0\n",
            "473    22626         6    3.8      2       1      1        0\n",
            "176    19945         4    1.6      4       0      0        0\n",
            "62     18910         6    3.8      4       1      0        1\n",
            "\n",
            "[562 rows x 7 columns]\n",
            "     Mileage  Cylinder  Liter  Doors  Cruise  Sound  Leather\n",
            "27     22596         6    3.6      4       1      0        0\n",
            "728    24738         4    2.3      4       1      1        1\n",
            "736    21822         4    2.3      4       1      1        1\n",
            "144    18581         8    4.6      4       1      0        1\n",
            "309    32844         4    2.2      2       1      1        1\n",
            "..       ...       ...    ...    ...     ...    ...      ...\n",
            "130     2846         6    3.6      4       1      0        1\n",
            "790    32458         4    2.2      4       0      0        0\n",
            "773    18257         4    2.2      4       0      1        1\n",
            "369    29420         6    3.8      4       1      1        1\n",
            "154    15600         8    4.6      2       1      1        1\n",
            "\n",
            "[242 rows x 7 columns]\n",
            "378    15832.518348\n",
            "787    12105.981336\n",
            "704    29914.379575\n",
            "437    16267.094889\n",
            "797    17978.356998\n",
            "           ...     \n",
            "654    30731.941655\n",
            "454    17685.200995\n",
            "473    22470.358430\n",
            "176    11215.018647\n",
            "62     23420.706948\n",
            "Name: Price, Length: 562, dtype: float64\n",
            "27     20406.099503\n",
            "728    27703.203995\n",
            "736    29481.528757\n",
            "144    42377.955442\n",
            "309    12553.071428\n",
            "           ...     \n",
            "130    42741.523666\n",
            "790    10563.066162\n",
            "773    13998.129276\n",
            "369    18083.396299\n",
            "154    65281.481237\n",
            "Name: Price, Length: 242, dtype: float64\n"
          ]
        }
      ]
    },
    {
      "cell_type": "code",
      "source": [
        "scaler=StandardScaler()"
      ],
      "metadata": {
        "id": "az6IKQlmJ1mY"
      },
      "execution_count": 42,
      "outputs": []
    },
    {
      "cell_type": "code",
      "source": [
        "scaler.fit(X_train) # scaling is not mandatory for linear regression\n",
        "X_train_scale=scaler.transform(X_train)\n",
        "X_test_scale=scaler.transform(X_test)"
      ],
      "metadata": {
        "id": "6cM8o8xKIzWr"
      },
      "execution_count": 43,
      "outputs": []
    },
    {
      "cell_type": "code",
      "source": [],
      "metadata": {
        "id": "3FHwd_4BIzcw"
      },
      "execution_count": 43,
      "outputs": []
    },
    {
      "cell_type": "code",
      "source": [
        "reg=LinearRegression()\n",
        "reg.fit(X_train_scale,y_train)"
      ],
      "metadata": {
        "colab": {
          "base_uri": "https://localhost:8080/"
        },
        "id": "Fit8l4SjIdss",
        "outputId": "dc3dc2ac-f6e2-4900-95ce-286935eb11cd"
      },
      "execution_count": 44,
      "outputs": [
        {
          "output_type": "execute_result",
          "data": {
            "text/plain": [
              "LinearRegression()"
            ]
          },
          "metadata": {},
          "execution_count": 44
        }
      ]
    },
    {
      "cell_type": "code",
      "source": [
        "y_predict=reg.predict(X_test_scale)"
      ],
      "metadata": {
        "id": "VXsWttUyIdwc"
      },
      "execution_count": 45,
      "outputs": []
    },
    {
      "cell_type": "code",
      "source": [
        "print(\"R2 score is :\",metrics.r2_score(y_test,y_predict))"
      ],
      "metadata": {
        "colab": {
          "base_uri": "https://localhost:8080/"
        },
        "id": "PUiMSvcnId0D",
        "outputId": "e398198a-91ac-45be-fa19-b6417cec4574"
      },
      "execution_count": 46,
      "outputs": [
        {
          "output_type": "stream",
          "name": "stdout",
          "text": [
            "R2 score is : 0.4684217763521955\n"
          ]
        }
      ]
    },
    {
      "cell_type": "code",
      "source": [
        "reg.score(X_test_scale,y_test)"
      ],
      "metadata": {
        "colab": {
          "base_uri": "https://localhost:8080/"
        },
        "id": "gZ-7JOsaCYgX",
        "outputId": "251ab11c-09b3-48cd-9705-dd40b4214872"
      },
      "execution_count": 47,
      "outputs": [
        {
          "output_type": "execute_result",
          "data": {
            "text/plain": [
              "0.4684217763521955"
            ]
          },
          "metadata": {},
          "execution_count": 47
        }
      ]
    },
    {
      "cell_type": "markdown",
      "source": [],
      "metadata": {
        "id": "wfy-LczzPzo6"
      }
    },
    {
      "cell_type": "code",
      "source": [
        "coef = pd.DataFrame(reg.coef_, ['Mileage','Cylinder','Liter','Doors','Cruise','Sound','Leather'] , columns = ['coefficient'])\n",
        "coef"
      ],
      "metadata": {
        "id": "lhRu6EjzId4C",
        "colab": {
          "base_uri": "https://localhost:8080/",
          "height": 269
        },
        "outputId": "20b5ce70-56de-4f59-82c8-c25692a04968"
      },
      "execution_count": 48,
      "outputs": [
        {
          "output_type": "execute_result",
          "data": {
            "text/plain": [
              "          coefficient\n",
              "Mileage  -1305.173073\n",
              "Cylinder  5781.724010\n",
              "Liter    -1488.407082\n",
              "Doors    -1415.451492\n",
              "Cruise    2749.363886\n",
              "Sound     -907.714109\n",
              "Leather   1601.630903"
            ],
            "text/html": [
              "\n",
              "  <div id=\"df-be5a8d52-984f-446d-9e21-d50baf55236d\">\n",
              "    <div class=\"colab-df-container\">\n",
              "      <div>\n",
              "<style scoped>\n",
              "    .dataframe tbody tr th:only-of-type {\n",
              "        vertical-align: middle;\n",
              "    }\n",
              "\n",
              "    .dataframe tbody tr th {\n",
              "        vertical-align: top;\n",
              "    }\n",
              "\n",
              "    .dataframe thead th {\n",
              "        text-align: right;\n",
              "    }\n",
              "</style>\n",
              "<table border=\"1\" class=\"dataframe\">\n",
              "  <thead>\n",
              "    <tr style=\"text-align: right;\">\n",
              "      <th></th>\n",
              "      <th>coefficient</th>\n",
              "    </tr>\n",
              "  </thead>\n",
              "  <tbody>\n",
              "    <tr>\n",
              "      <th>Mileage</th>\n",
              "      <td>-1305.173073</td>\n",
              "    </tr>\n",
              "    <tr>\n",
              "      <th>Cylinder</th>\n",
              "      <td>5781.724010</td>\n",
              "    </tr>\n",
              "    <tr>\n",
              "      <th>Liter</th>\n",
              "      <td>-1488.407082</td>\n",
              "    </tr>\n",
              "    <tr>\n",
              "      <th>Doors</th>\n",
              "      <td>-1415.451492</td>\n",
              "    </tr>\n",
              "    <tr>\n",
              "      <th>Cruise</th>\n",
              "      <td>2749.363886</td>\n",
              "    </tr>\n",
              "    <tr>\n",
              "      <th>Sound</th>\n",
              "      <td>-907.714109</td>\n",
              "    </tr>\n",
              "    <tr>\n",
              "      <th>Leather</th>\n",
              "      <td>1601.630903</td>\n",
              "    </tr>\n",
              "  </tbody>\n",
              "</table>\n",
              "</div>\n",
              "      <button class=\"colab-df-convert\" onclick=\"convertToInteractive('df-be5a8d52-984f-446d-9e21-d50baf55236d')\"\n",
              "              title=\"Convert this dataframe to an interactive table.\"\n",
              "              style=\"display:none;\">\n",
              "        \n",
              "  <svg xmlns=\"http://www.w3.org/2000/svg\" height=\"24px\"viewBox=\"0 0 24 24\"\n",
              "       width=\"24px\">\n",
              "    <path d=\"M0 0h24v24H0V0z\" fill=\"none\"/>\n",
              "    <path d=\"M18.56 5.44l.94 2.06.94-2.06 2.06-.94-2.06-.94-.94-2.06-.94 2.06-2.06.94zm-11 1L8.5 8.5l.94-2.06 2.06-.94-2.06-.94L8.5 2.5l-.94 2.06-2.06.94zm10 10l.94 2.06.94-2.06 2.06-.94-2.06-.94-.94-2.06-.94 2.06-2.06.94z\"/><path d=\"M17.41 7.96l-1.37-1.37c-.4-.4-.92-.59-1.43-.59-.52 0-1.04.2-1.43.59L10.3 9.45l-7.72 7.72c-.78.78-.78 2.05 0 2.83L4 21.41c.39.39.9.59 1.41.59.51 0 1.02-.2 1.41-.59l7.78-7.78 2.81-2.81c.8-.78.8-2.07 0-2.86zM5.41 20L4 18.59l7.72-7.72 1.47 1.35L5.41 20z\"/>\n",
              "  </svg>\n",
              "      </button>\n",
              "      \n",
              "  <style>\n",
              "    .colab-df-container {\n",
              "      display:flex;\n",
              "      flex-wrap:wrap;\n",
              "      gap: 12px;\n",
              "    }\n",
              "\n",
              "    .colab-df-convert {\n",
              "      background-color: #E8F0FE;\n",
              "      border: none;\n",
              "      border-radius: 50%;\n",
              "      cursor: pointer;\n",
              "      display: none;\n",
              "      fill: #1967D2;\n",
              "      height: 32px;\n",
              "      padding: 0 0 0 0;\n",
              "      width: 32px;\n",
              "    }\n",
              "\n",
              "    .colab-df-convert:hover {\n",
              "      background-color: #E2EBFA;\n",
              "      box-shadow: 0px 1px 2px rgba(60, 64, 67, 0.3), 0px 1px 3px 1px rgba(60, 64, 67, 0.15);\n",
              "      fill: #174EA6;\n",
              "    }\n",
              "\n",
              "    [theme=dark] .colab-df-convert {\n",
              "      background-color: #3B4455;\n",
              "      fill: #D2E3FC;\n",
              "    }\n",
              "\n",
              "    [theme=dark] .colab-df-convert:hover {\n",
              "      background-color: #434B5C;\n",
              "      box-shadow: 0px 1px 3px 1px rgba(0, 0, 0, 0.15);\n",
              "      filter: drop-shadow(0px 1px 2px rgba(0, 0, 0, 0.3));\n",
              "      fill: #FFFFFF;\n",
              "    }\n",
              "  </style>\n",
              "\n",
              "      <script>\n",
              "        const buttonEl =\n",
              "          document.querySelector('#df-be5a8d52-984f-446d-9e21-d50baf55236d button.colab-df-convert');\n",
              "        buttonEl.style.display =\n",
              "          google.colab.kernel.accessAllowed ? 'block' : 'none';\n",
              "\n",
              "        async function convertToInteractive(key) {\n",
              "          const element = document.querySelector('#df-be5a8d52-984f-446d-9e21-d50baf55236d');\n",
              "          const dataTable =\n",
              "            await google.colab.kernel.invokeFunction('convertToInteractive',\n",
              "                                                     [key], {});\n",
              "          if (!dataTable) return;\n",
              "\n",
              "          const docLinkHtml = 'Like what you see? Visit the ' +\n",
              "            '<a target=\"_blank\" href=https://colab.research.google.com/notebooks/data_table.ipynb>data table notebook</a>'\n",
              "            + ' to learn more about interactive tables.';\n",
              "          element.innerHTML = '';\n",
              "          dataTable['output_type'] = 'display_data';\n",
              "          await google.colab.output.renderOutput(dataTable, element);\n",
              "          const docLink = document.createElement('div');\n",
              "          docLink.innerHTML = docLinkHtml;\n",
              "          element.appendChild(docLink);\n",
              "        }\n",
              "      </script>\n",
              "    </div>\n",
              "  </div>\n",
              "  "
            ]
          },
          "metadata": {},
          "execution_count": 48
        }
      ]
    },
    {
      "cell_type": "code",
      "source": [
        "import itertools"
      ],
      "metadata": {
        "id": "YoC_5ZF5wD32"
      },
      "execution_count": 49,
      "outputs": []
    },
    {
      "cell_type": "code",
      "source": [
        "combinations=[]\n",
        "R2_score=[]\n",
        "for i in range(len(X)+1):\n",
        "  for j in itertools.combinations(X,i):\n",
        "    combinations.append(j)"
      ],
      "metadata": {
        "id": "Ycx9gmZoYCA8"
      },
      "execution_count": 50,
      "outputs": []
    },
    {
      "cell_type": "code",
      "source": [
        "combinations"
      ],
      "metadata": {
        "colab": {
          "base_uri": "https://localhost:8080/"
        },
        "id": "e-tKR7J3ZF8M",
        "outputId": "5f104ee5-0737-4889-f52b-5380443d8290"
      },
      "execution_count": 51,
      "outputs": [
        {
          "output_type": "execute_result",
          "data": {
            "text/plain": [
              "[(),\n",
              " ('Mileage',),\n",
              " ('Cylinder',),\n",
              " ('Liter',),\n",
              " ('Doors',),\n",
              " ('Cruise',),\n",
              " ('Sound',),\n",
              " ('Leather',),\n",
              " ('Mileage', 'Cylinder'),\n",
              " ('Mileage', 'Liter'),\n",
              " ('Mileage', 'Doors'),\n",
              " ('Mileage', 'Cruise'),\n",
              " ('Mileage', 'Sound'),\n",
              " ('Mileage', 'Leather'),\n",
              " ('Cylinder', 'Liter'),\n",
              " ('Cylinder', 'Doors'),\n",
              " ('Cylinder', 'Cruise'),\n",
              " ('Cylinder', 'Sound'),\n",
              " ('Cylinder', 'Leather'),\n",
              " ('Liter', 'Doors'),\n",
              " ('Liter', 'Cruise'),\n",
              " ('Liter', 'Sound'),\n",
              " ('Liter', 'Leather'),\n",
              " ('Doors', 'Cruise'),\n",
              " ('Doors', 'Sound'),\n",
              " ('Doors', 'Leather'),\n",
              " ('Cruise', 'Sound'),\n",
              " ('Cruise', 'Leather'),\n",
              " ('Sound', 'Leather'),\n",
              " ('Mileage', 'Cylinder', 'Liter'),\n",
              " ('Mileage', 'Cylinder', 'Doors'),\n",
              " ('Mileage', 'Cylinder', 'Cruise'),\n",
              " ('Mileage', 'Cylinder', 'Sound'),\n",
              " ('Mileage', 'Cylinder', 'Leather'),\n",
              " ('Mileage', 'Liter', 'Doors'),\n",
              " ('Mileage', 'Liter', 'Cruise'),\n",
              " ('Mileage', 'Liter', 'Sound'),\n",
              " ('Mileage', 'Liter', 'Leather'),\n",
              " ('Mileage', 'Doors', 'Cruise'),\n",
              " ('Mileage', 'Doors', 'Sound'),\n",
              " ('Mileage', 'Doors', 'Leather'),\n",
              " ('Mileage', 'Cruise', 'Sound'),\n",
              " ('Mileage', 'Cruise', 'Leather'),\n",
              " ('Mileage', 'Sound', 'Leather'),\n",
              " ('Cylinder', 'Liter', 'Doors'),\n",
              " ('Cylinder', 'Liter', 'Cruise'),\n",
              " ('Cylinder', 'Liter', 'Sound'),\n",
              " ('Cylinder', 'Liter', 'Leather'),\n",
              " ('Cylinder', 'Doors', 'Cruise'),\n",
              " ('Cylinder', 'Doors', 'Sound'),\n",
              " ('Cylinder', 'Doors', 'Leather'),\n",
              " ('Cylinder', 'Cruise', 'Sound'),\n",
              " ('Cylinder', 'Cruise', 'Leather'),\n",
              " ('Cylinder', 'Sound', 'Leather'),\n",
              " ('Liter', 'Doors', 'Cruise'),\n",
              " ('Liter', 'Doors', 'Sound'),\n",
              " ('Liter', 'Doors', 'Leather'),\n",
              " ('Liter', 'Cruise', 'Sound'),\n",
              " ('Liter', 'Cruise', 'Leather'),\n",
              " ('Liter', 'Sound', 'Leather'),\n",
              " ('Doors', 'Cruise', 'Sound'),\n",
              " ('Doors', 'Cruise', 'Leather'),\n",
              " ('Doors', 'Sound', 'Leather'),\n",
              " ('Cruise', 'Sound', 'Leather'),\n",
              " ('Mileage', 'Cylinder', 'Liter', 'Doors'),\n",
              " ('Mileage', 'Cylinder', 'Liter', 'Cruise'),\n",
              " ('Mileage', 'Cylinder', 'Liter', 'Sound'),\n",
              " ('Mileage', 'Cylinder', 'Liter', 'Leather'),\n",
              " ('Mileage', 'Cylinder', 'Doors', 'Cruise'),\n",
              " ('Mileage', 'Cylinder', 'Doors', 'Sound'),\n",
              " ('Mileage', 'Cylinder', 'Doors', 'Leather'),\n",
              " ('Mileage', 'Cylinder', 'Cruise', 'Sound'),\n",
              " ('Mileage', 'Cylinder', 'Cruise', 'Leather'),\n",
              " ('Mileage', 'Cylinder', 'Sound', 'Leather'),\n",
              " ('Mileage', 'Liter', 'Doors', 'Cruise'),\n",
              " ('Mileage', 'Liter', 'Doors', 'Sound'),\n",
              " ('Mileage', 'Liter', 'Doors', 'Leather'),\n",
              " ('Mileage', 'Liter', 'Cruise', 'Sound'),\n",
              " ('Mileage', 'Liter', 'Cruise', 'Leather'),\n",
              " ('Mileage', 'Liter', 'Sound', 'Leather'),\n",
              " ('Mileage', 'Doors', 'Cruise', 'Sound'),\n",
              " ('Mileage', 'Doors', 'Cruise', 'Leather'),\n",
              " ('Mileage', 'Doors', 'Sound', 'Leather'),\n",
              " ('Mileage', 'Cruise', 'Sound', 'Leather'),\n",
              " ('Cylinder', 'Liter', 'Doors', 'Cruise'),\n",
              " ('Cylinder', 'Liter', 'Doors', 'Sound'),\n",
              " ('Cylinder', 'Liter', 'Doors', 'Leather'),\n",
              " ('Cylinder', 'Liter', 'Cruise', 'Sound'),\n",
              " ('Cylinder', 'Liter', 'Cruise', 'Leather'),\n",
              " ('Cylinder', 'Liter', 'Sound', 'Leather'),\n",
              " ('Cylinder', 'Doors', 'Cruise', 'Sound'),\n",
              " ('Cylinder', 'Doors', 'Cruise', 'Leather'),\n",
              " ('Cylinder', 'Doors', 'Sound', 'Leather'),\n",
              " ('Cylinder', 'Cruise', 'Sound', 'Leather'),\n",
              " ('Liter', 'Doors', 'Cruise', 'Sound'),\n",
              " ('Liter', 'Doors', 'Cruise', 'Leather'),\n",
              " ('Liter', 'Doors', 'Sound', 'Leather'),\n",
              " ('Liter', 'Cruise', 'Sound', 'Leather'),\n",
              " ('Doors', 'Cruise', 'Sound', 'Leather'),\n",
              " ('Mileage', 'Cylinder', 'Liter', 'Doors', 'Cruise'),\n",
              " ('Mileage', 'Cylinder', 'Liter', 'Doors', 'Sound'),\n",
              " ('Mileage', 'Cylinder', 'Liter', 'Doors', 'Leather'),\n",
              " ('Mileage', 'Cylinder', 'Liter', 'Cruise', 'Sound'),\n",
              " ('Mileage', 'Cylinder', 'Liter', 'Cruise', 'Leather'),\n",
              " ('Mileage', 'Cylinder', 'Liter', 'Sound', 'Leather'),\n",
              " ('Mileage', 'Cylinder', 'Doors', 'Cruise', 'Sound'),\n",
              " ('Mileage', 'Cylinder', 'Doors', 'Cruise', 'Leather'),\n",
              " ('Mileage', 'Cylinder', 'Doors', 'Sound', 'Leather'),\n",
              " ('Mileage', 'Cylinder', 'Cruise', 'Sound', 'Leather'),\n",
              " ('Mileage', 'Liter', 'Doors', 'Cruise', 'Sound'),\n",
              " ('Mileage', 'Liter', 'Doors', 'Cruise', 'Leather'),\n",
              " ('Mileage', 'Liter', 'Doors', 'Sound', 'Leather'),\n",
              " ('Mileage', 'Liter', 'Cruise', 'Sound', 'Leather'),\n",
              " ('Mileage', 'Doors', 'Cruise', 'Sound', 'Leather'),\n",
              " ('Cylinder', 'Liter', 'Doors', 'Cruise', 'Sound'),\n",
              " ('Cylinder', 'Liter', 'Doors', 'Cruise', 'Leather'),\n",
              " ('Cylinder', 'Liter', 'Doors', 'Sound', 'Leather'),\n",
              " ('Cylinder', 'Liter', 'Cruise', 'Sound', 'Leather'),\n",
              " ('Cylinder', 'Doors', 'Cruise', 'Sound', 'Leather'),\n",
              " ('Liter', 'Doors', 'Cruise', 'Sound', 'Leather'),\n",
              " ('Mileage', 'Cylinder', 'Liter', 'Doors', 'Cruise', 'Sound'),\n",
              " ('Mileage', 'Cylinder', 'Liter', 'Doors', 'Cruise', 'Leather'),\n",
              " ('Mileage', 'Cylinder', 'Liter', 'Doors', 'Sound', 'Leather'),\n",
              " ('Mileage', 'Cylinder', 'Liter', 'Cruise', 'Sound', 'Leather'),\n",
              " ('Mileage', 'Cylinder', 'Doors', 'Cruise', 'Sound', 'Leather'),\n",
              " ('Mileage', 'Liter', 'Doors', 'Cruise', 'Sound', 'Leather'),\n",
              " ('Cylinder', 'Liter', 'Doors', 'Cruise', 'Sound', 'Leather'),\n",
              " ('Mileage', 'Cylinder', 'Liter', 'Doors', 'Cruise', 'Sound', 'Leather')]"
            ]
          },
          "metadata": {},
          "execution_count": 51
        }
      ]
    },
    {
      "cell_type": "code",
      "source": [
        "for i in range(1,len(combinations)):\n",
        "  X_comp=df.loc[:,combinations[i]]\n",
        "  y_comp=df.loc[:,'Price']\n",
        "  X_train,X_test,y_train,y_test=train_test_split(X_comp,y_comp,test_size=0.3,random_state=107)\n",
        "  scaler.fit(X_train)\n",
        "  X_train_scale=scaler.transform(X_train)\n",
        "  X_test_scale=scaler.transform(X_test)\n",
        "  reg=LinearRegression()\n",
        "  reg.fit(X_train_scale,y_train)\n",
        "  y_predict=reg.predict(X_test_scale)\n",
        "  R2_score.append(metrics.r2_score(y_test,y_predict))\n",
        "  print(\"R2 score\", i-1 ,combinations[i],\"is :\",metrics.r2_score(y_test,y_predict))\n"
      ],
      "metadata": {
        "colab": {
          "base_uri": "https://localhost:8080/"
        },
        "id": "PtQCF619ZGAW",
        "outputId": "697ee421-d2ae-4f79-c0d3-fe8b2c047e69"
      },
      "execution_count": 52,
      "outputs": [
        {
          "output_type": "stream",
          "name": "stdout",
          "text": [
            "R2 score 0 ('Mileage',) is : 0.035796562920820674\n",
            "R2 score 1 ('Cylinder',) is : 0.3542184512860992\n",
            "R2 score 2 ('Liter',) is : 0.3588001215950437\n",
            "R2 score 3 ('Doors',) is : 0.025041551723885225\n",
            "R2 score 4 ('Cruise',) is : 0.19660399809877727\n",
            "R2 score 5 ('Sound',) is : 0.020740068395317945\n",
            "R2 score 6 ('Leather',) is : 0.02423902174135173\n",
            "R2 score 7 ('Mileage', 'Cylinder') is : 0.3800668219137213\n",
            "R2 score 8 ('Mileage', 'Liter') is : 0.38789472142854253\n",
            "R2 score 9 ('Mileage', 'Doors') is : 0.06330583477924356\n",
            "R2 score 10 ('Mileage', 'Cruise') is : 0.23667620535025546\n",
            "R2 score 11 ('Mileage', 'Sound') is : 0.05953182051468253\n",
            "R2 score 12 ('Mileage', 'Leather') is : 0.061143238668187716\n",
            "R2 score 13 ('Cylinder', 'Liter') is : 0.3576984158225376\n",
            "R2 score 14 ('Cylinder', 'Doors') is : 0.37380253027995114\n",
            "R2 score 15 ('Cylinder', 'Cruise') is : 0.4128318078604811\n",
            "R2 score 16 ('Cylinder', 'Sound') is : 0.3576781014467386\n",
            "R2 score 17 ('Cylinder', 'Leather') is : 0.3653996623001412\n",
            "R2 score 18 ('Liter', 'Doors') is : 0.3670494396519365\n",
            "R2 score 19 ('Liter', 'Cruise') is : 0.40676233584606125\n",
            "R2 score 20 ('Liter', 'Sound') is : 0.36525075158675757\n",
            "R2 score 21 ('Liter', 'Leather') is : 0.3648990612680003\n",
            "R2 score 22 ('Doors', 'Cruise') is : 0.21500739037489136\n",
            "R2 score 23 ('Doors', 'Sound') is : 0.050842734568941284\n",
            "R2 score 24 ('Doors', 'Leather') is : 0.04550931171172168\n",
            "R2 score 25 ('Cruise', 'Sound') is : 0.20767107015077613\n",
            "R2 score 26 ('Cruise', 'Leather') is : 0.22589404548412162\n",
            "R2 score 27 ('Sound', 'Leather') is : 0.05743032446445018\n",
            "R2 score 28 ('Mileage', 'Cylinder', 'Liter') is : 0.3841821892153411\n",
            "R2 score 29 ('Mileage', 'Cylinder', 'Doors') is : 0.39846678054632456\n",
            "R2 score 30 ('Mileage', 'Cylinder', 'Cruise') is : 0.44001979873242203\n",
            "R2 score 31 ('Mileage', 'Cylinder', 'Sound') is : 0.38399904719888056\n",
            "R2 score 32 ('Mileage', 'Cylinder', 'Leather') is : 0.39052612353839367\n",
            "R2 score 33 ('Mileage', 'Liter', 'Doors') is : 0.39558762074757303\n",
            "R2 score 34 ('Mileage', 'Liter', 'Cruise') is : 0.43683465641801156\n",
            "R2 score 35 ('Mileage', 'Liter', 'Sound') is : 0.3949685766022941\n",
            "R2 score 36 ('Mileage', 'Liter', 'Leather') is : 0.39310703172555184\n",
            "R2 score 37 ('Mileage', 'Doors', 'Cruise') is : 0.25499460114250794\n",
            "R2 score 38 ('Mileage', 'Doors', 'Sound') is : 0.09103560015494683\n",
            "R2 score 39 ('Mileage', 'Doors', 'Leather') is : 0.08316192070073447\n",
            "R2 score 40 ('Mileage', 'Cruise', 'Sound') is : 0.24873869092322132\n",
            "R2 score 41 ('Mileage', 'Cruise', 'Leather') is : 0.2641489503905813\n",
            "R2 score 42 ('Mileage', 'Sound', 'Leather') is : 0.0964476212491151\n",
            "R2 score 43 ('Cylinder', 'Liter', 'Doors') is : 0.3703644135481544\n",
            "R2 score 44 ('Cylinder', 'Liter', 'Cruise') is : 0.41158519980587105\n",
            "R2 score 45 ('Cylinder', 'Liter', 'Sound') is : 0.36228155126106687\n",
            "R2 score 46 ('Cylinder', 'Liter', 'Leather') is : 0.3681707722211123\n",
            "R2 score 47 ('Cylinder', 'Doors', 'Cruise') is : 0.42904775396416184\n",
            "R2 score 48 ('Cylinder', 'Doors', 'Sound') is : 0.3793794540638129\n",
            "R2 score 49 ('Cylinder', 'Doors', 'Leather') is : 0.3812343668345517\n",
            "R2 score 50 ('Cylinder', 'Cruise', 'Sound') is : 0.41543407153508183\n",
            "R2 score 51 ('Cylinder', 'Cruise', 'Leather') is : 0.4269074230848786\n",
            "R2 score 52 ('Cylinder', 'Sound', 'Leather') is : 0.3729964553169377\n",
            "R2 score 53 ('Liter', 'Doors', 'Cruise') is : 0.41444131587872524\n",
            "R2 score 54 ('Liter', 'Doors', 'Sound') is : 0.375398251886203\n",
            "R2 score 55 ('Liter', 'Doors', 'Leather') is : 0.3708396003577643\n",
            "R2 score 56 ('Liter', 'Cruise', 'Sound') is : 0.4117655906695791\n",
            "R2 score 57 ('Liter', 'Cruise', 'Leather') is : 0.41514529453450444\n",
            "R2 score 58 ('Liter', 'Sound', 'Leather') is : 0.37574518279329205\n",
            "R2 score 59 ('Doors', 'Cruise', 'Sound') is : 0.2284968681388676\n",
            "R2 score 60 ('Doors', 'Cruise', 'Leather') is : 0.23895139111141284\n",
            "R2 score 61 ('Doors', 'Sound', 'Leather') is : 0.08227012381908583\n",
            "R2 score 62 ('Cruise', 'Sound', 'Leather') is : 0.24628308919088004\n",
            "R2 score 63 ('Mileage', 'Cylinder', 'Liter', 'Doors') is : 0.39479349394177343\n",
            "R2 score 64 ('Mileage', 'Cylinder', 'Liter', 'Cruise') is : 0.43889816009482796\n",
            "R2 score 65 ('Mileage', 'Cylinder', 'Liter', 'Sound') is : 0.3893804766987753\n",
            "R2 score 66 ('Mileage', 'Cylinder', 'Liter', 'Leather') is : 0.39384355978464036\n",
            "R2 score 67 ('Mileage', 'Cylinder', 'Doors', 'Cruise') is : 0.45454590076435475\n",
            "R2 score 68 ('Mileage', 'Cylinder', 'Doors', 'Sound') is : 0.4045231158436152\n",
            "R2 score 69 ('Mileage', 'Cylinder', 'Doors', 'Leather') is : 0.4048440647865347\n",
            "R2 score 70 ('Mileage', 'Cylinder', 'Cruise', 'Sound') is : 0.4429750112666305\n",
            "R2 score 71 ('Mileage', 'Cylinder', 'Cruise', 'Leather') is : 0.45256558466296704\n",
            "R2 score 72 ('Mileage', 'Cylinder', 'Sound', 'Leather') is : 0.3986780928175919\n",
            "R2 score 73 ('Mileage', 'Liter', 'Doors', 'Cruise') is : 0.4435823085538443\n",
            "R2 score 74 ('Mileage', 'Liter', 'Doors', 'Sound') is : 0.40460254043731636\n",
            "R2 score 75 ('Mileage', 'Liter', 'Doors', 'Leather') is : 0.398220497939181\n",
            "R2 score 76 ('Mileage', 'Liter', 'Cruise', 'Sound') is : 0.44230685205184816\n",
            "R2 score 77 ('Mileage', 'Liter', 'Cruise', 'Leather') is : 0.44348051258367627\n",
            "R2 score 78 ('Mileage', 'Liter', 'Sound', 'Leather') is : 0.4046183050094263\n",
            "R2 score 79 ('Mileage', 'Doors', 'Cruise', 'Sound') is : 0.2696340462108531\n",
            "R2 score 80 ('Mileage', 'Doors', 'Cruise', 'Leather') is : 0.27654947943012964\n",
            "R2 score 81 ('Mileage', 'Doors', 'Sound', 'Leather') is : 0.12213252743300984\n",
            "R2 score 82 ('Mileage', 'Cruise', 'Sound', 'Leather') is : 0.28578879649279076\n",
            "R2 score 83 ('Cylinder', 'Liter', 'Doors', 'Cruise') is : 0.4250564338804582\n",
            "R2 score 84 ('Cylinder', 'Liter', 'Doors', 'Sound') is : 0.37654486457124314\n",
            "R2 score 85 ('Cylinder', 'Liter', 'Doors', 'Leather') is : 0.37847878265260404\n",
            "R2 score 86 ('Cylinder', 'Liter', 'Cruise', 'Sound') is : 0.4146913500652164\n",
            "R2 score 87 ('Cylinder', 'Liter', 'Cruise', 'Leather') is : 0.4259153970683729\n",
            "R2 score 88 ('Cylinder', 'Liter', 'Sound', 'Leather') is : 0.3768743695907595\n",
            "R2 score 89 ('Cylinder', 'Doors', 'Cruise', 'Sound') is : 0.43323658210619864\n",
            "R2 score 90 ('Cylinder', 'Doors', 'Cruise', 'Leather') is : 0.43883504436524146\n",
            "R2 score 91 ('Cylinder', 'Doors', 'Sound', 'Leather') is : 0.3908491825231387\n",
            "R2 score 92 ('Cylinder', 'Cruise', 'Sound', 'Leather') is : 0.43373457329712795\n",
            "R2 score 93 ('Liter', 'Doors', 'Cruise', 'Sound') is : 0.4209397195050676\n",
            "R2 score 94 ('Liter', 'Doors', 'Cruise', 'Leather') is : 0.420077756707782\n",
            "R2 score 95 ('Liter', 'Doors', 'Sound', 'Leather') is : 0.38347878874493413\n",
            "R2 score 96 ('Liter', 'Cruise', 'Sound', 'Leather') is : 0.42487889953298763\n",
            "R2 score 97 ('Doors', 'Cruise', 'Sound', 'Leather') is : 0.2617927684962609\n",
            "R2 score 98 ('Mileage', 'Cylinder', 'Liter', 'Doors', 'Cruise') is : 0.44980758439552404\n",
            "R2 score 99 ('Mileage', 'Cylinder', 'Liter', 'Doors', 'Sound') is : 0.4015527065787987\n",
            "R2 score 100 ('Mileage', 'Cylinder', 'Liter', 'Doors', 'Leather') is : 0.40185785584999056\n",
            "R2 score 101 ('Mileage', 'Cylinder', 'Liter', 'Cruise', 'Sound') is : 0.44244978322284034\n",
            "R2 score 102 ('Mileage', 'Cylinder', 'Liter', 'Cruise', 'Leather') is : 0.451601232857071\n",
            "R2 score 103 ('Mileage', 'Cylinder', 'Liter', 'Sound', 'Leather') is : 0.4032424458157352\n",
            "R2 score 104 ('Mileage', 'Cylinder', 'Doors', 'Cruise', 'Sound') is : 0.4591161196462604\n",
            "R2 score 105 ('Mileage', 'Cylinder', 'Doors', 'Cruise', 'Leather') is : 0.46239373480126944\n",
            "R2 score 106 ('Mileage', 'Cylinder', 'Doors', 'Sound', 'Leather') is : 0.4149307518811688\n",
            "R2 score 107 ('Mileage', 'Cylinder', 'Cruise', 'Sound', 'Leather') is : 0.4598416655479275\n",
            "R2 score 108 ('Mileage', 'Liter', 'Doors', 'Cruise', 'Sound') is : 0.45060365916245915\n",
            "R2 score 109 ('Mileage', 'Liter', 'Doors', 'Cruise', 'Leather') is : 0.44711817594696823\n",
            "R2 score 110 ('Mileage', 'Liter', 'Doors', 'Sound', 'Leather') is : 0.4114952469226967\n",
            "R2 score 111 ('Mileage', 'Liter', 'Cruise', 'Sound', 'Leather') is : 0.4537404022274575\n",
            "R2 score 112 ('Mileage', 'Doors', 'Cruise', 'Sound', 'Leather') is : 0.3007122251527953\n",
            "R2 score 113 ('Cylinder', 'Liter', 'Doors', 'Cruise', 'Sound') is : 0.4293584621472908\n",
            "R2 score 114 ('Cylinder', 'Liter', 'Doors', 'Cruise', 'Leather') is : 0.43661911647266083\n",
            "R2 score 115 ('Cylinder', 'Liter', 'Doors', 'Sound', 'Leather') is : 0.3887500060191468\n",
            "R2 score 116 ('Cylinder', 'Liter', 'Cruise', 'Sound', 'Leather') is : 0.43314101632507496\n",
            "R2 score 117 ('Cylinder', 'Doors', 'Cruise', 'Sound', 'Leather') is : 0.4472934250917451\n",
            "R2 score 118 ('Liter', 'Doors', 'Cruise', 'Sound', 'Leather') is : 0.4313122023755497\n",
            "R2 score 119 ('Mileage', 'Cylinder', 'Liter', 'Doors', 'Cruise', 'Sound') is : 0.45455730723455434\n",
            "R2 score 120 ('Mileage', 'Cylinder', 'Liter', 'Doors', 'Cruise', 'Leather') is : 0.45942950107692937\n",
            "R2 score 121 ('Mileage', 'Cylinder', 'Liter', 'Doors', 'Sound', 'Leather') is : 0.41271533479403144\n",
            "R2 score 122 ('Mileage', 'Cylinder', 'Liter', 'Cruise', 'Sound', 'Leather') is : 0.45936888758860417\n",
            "R2 score 123 ('Mileage', 'Cylinder', 'Doors', 'Cruise', 'Sound', 'Leather') is : 0.47124578057796473\n",
            "R2 score 124 ('Mileage', 'Liter', 'Doors', 'Cruise', 'Sound', 'Leather') is : 0.4588655849722322\n",
            "R2 score 125 ('Cylinder', 'Liter', 'Doors', 'Cruise', 'Sound', 'Leather') is : 0.44513266532098805\n",
            "R2 score 126 ('Mileage', 'Cylinder', 'Liter', 'Doors', 'Cruise', 'Sound', 'Leather') is : 0.4684217763521955\n"
          ]
        }
      ]
    },
    {
      "cell_type": "code",
      "source": [
        "for i in range(0,len(R2_score)):\n",
        "  if R2_score[i]==max(R2_score):\n",
        "    print(\"intex of max(R2_score) is \",i)\n",
        "    print(\"combinations of best features is\", combinations[i+1])\n",
        "    break"
      ],
      "metadata": {
        "colab": {
          "base_uri": "https://localhost:8080/"
        },
        "id": "8JMnW1vYeYUZ",
        "outputId": "5b709654-3b51-4c0c-c31a-95e3daaa8cff"
      },
      "execution_count": 53,
      "outputs": [
        {
          "output_type": "stream",
          "name": "stdout",
          "text": [
            "intex of max(R2_score) is  123\n",
            "combinations of best features is ('Mileage', 'Cylinder', 'Doors', 'Cruise', 'Sound', 'Leather')\n"
          ]
        }
      ]
    },
    {
      "cell_type": "markdown",
      "source": [
        "# ***best combination of features is 'Mileage', 'Cylinder', 'Doors', 'Cruise', 'Sound', 'Leather' and R2_score of these combination is 0.4712***"
      ],
      "metadata": {
        "id": "JL-pV5njic4O"
      }
    },
    {
      "cell_type": "markdown",
      "source": [
        "# ***Tasks, Hard Mode***\n",
        "\n",
        "1. Research dummy variables in scikit-learn to see how to use the make, model, and body type.\n",
        "2. Find the best combination of factors to predict price."
      ],
      "metadata": {
        "id": "D0TqSlkIjf4N"
      }
    },
    {
      "cell_type": "code",
      "source": [
        "df.info()"
      ],
      "metadata": {
        "colab": {
          "base_uri": "https://localhost:8080/"
        },
        "id": "NYPtnbcNeYYu",
        "outputId": "5dd71f96-65f2-40f3-9371-6f42a7127a3f"
      },
      "execution_count": 54,
      "outputs": [
        {
          "output_type": "stream",
          "name": "stdout",
          "text": [
            "<class 'pandas.core.frame.DataFrame'>\n",
            "Int64Index: 804 entries, 0 to 803\n",
            "Data columns (total 13 columns):\n",
            " #   Column       Non-Null Count  Dtype  \n",
            "---  ------       --------------  -----  \n",
            " 0   Price        804 non-null    float64\n",
            " 1   Mileage      804 non-null    int64  \n",
            " 2   Make         804 non-null    object \n",
            " 3   Model        804 non-null    object \n",
            " 4   Trim         804 non-null    object \n",
            " 5   Type         804 non-null    object \n",
            " 6   Cylinder     804 non-null    int64  \n",
            " 7   Liter        804 non-null    float64\n",
            " 8   Doors        804 non-null    int64  \n",
            " 9   Cruise       804 non-null    int64  \n",
            " 10  Sound        804 non-null    int64  \n",
            " 11  Leather      804 non-null    int64  \n",
            " 12  transformed  804 non-null    float64\n",
            "dtypes: float64(3), int64(6), object(4)\n",
            "memory usage: 120.2+ KB\n"
          ]
        }
      ]
    },
    {
      "cell_type": "code",
      "source": [
        "from sklearn.preprocessing import OrdinalEncoder\n",
        "encode=OrdinalEncoder()\n",
        "df_make=df.Make.unique()\n",
        "df_make\n"
      ],
      "metadata": {
        "colab": {
          "base_uri": "https://localhost:8080/"
        },
        "id": "tljPc_brztOj",
        "outputId": "d7c43e0b-55f7-48aa-ab69-c1cd84eef48b"
      },
      "execution_count": 95,
      "outputs": [
        {
          "output_type": "execute_result",
          "data": {
            "text/plain": [
              "array(['Buick', 'Cadillac', 'Chevrolet', 'Pontiac', 'SAAB', 'Saturn'],\n",
              "      dtype=object)"
            ]
          },
          "metadata": {},
          "execution_count": 95
        }
      ]
    },
    {
      "cell_type": "code",
      "source": [
        "df_model=df.Model.unique()\n",
        "df_model"
      ],
      "metadata": {
        "colab": {
          "base_uri": "https://localhost:8080/"
        },
        "id": "sDyrKG855Sj9",
        "outputId": "9b6567a5-ac30-4d85-fc21-bdaa5b61aa5d"
      },
      "execution_count": 61,
      "outputs": [
        {
          "output_type": "execute_result",
          "data": {
            "text/plain": [
              "array(['Century', 'Lacrosse', 'Lesabre', 'Park Avenue', 'CST-V', 'CTS',\n",
              "       'Deville', 'STS-V6', 'STS-V8', 'XLR-V8', 'AVEO', 'Cavalier',\n",
              "       'Classic', 'Cobalt', 'Corvette', 'Impala', 'Malibu', 'Monte Carlo',\n",
              "       'Bonneville', 'G6', 'Grand Am', 'Grand Prix', 'GTO', 'Sunfire',\n",
              "       'Vibe', '9_3', '9_3 HO', '9_5', '9_5 HO', '9-2X AWD', 'Ion',\n",
              "       'L Series'], dtype=object)"
            ]
          },
          "metadata": {},
          "execution_count": 61
        }
      ]
    },
    {
      "cell_type": "code",
      "source": [
        "df_type=df.Type.unique()\n",
        "df_type"
      ],
      "metadata": {
        "colab": {
          "base_uri": "https://localhost:8080/"
        },
        "id": "MgkKpa5J5Snp",
        "outputId": "3011be86-9281-407d-819c-227d935d6d96"
      },
      "execution_count": 66,
      "outputs": [
        {
          "output_type": "execute_result",
          "data": {
            "text/plain": [
              "array(['Sedan', 'Convertible', 'Hatchback', 'Coupe', 'Wagon'],\n",
              "      dtype=object)"
            ]
          },
          "metadata": {},
          "execution_count": 66
        }
      ]
    },
    {
      "cell_type": "code",
      "source": [
        "df_cata=df.loc[:,['Make','Model','Type']]\n",
        "df_new=pd.get_dummies(data=df_cata,columns=['Make','Model','Type'])\n",
        "df_new"
      ],
      "metadata": {
        "id": "q91-bMt1eYc9",
        "colab": {
          "base_uri": "https://localhost:8080/",
          "height": 505
        },
        "outputId": "8b759025-374f-47e9-a76e-5489e9984697"
      },
      "execution_count": 103,
      "outputs": [
        {
          "output_type": "execute_result",
          "data": {
            "text/plain": [
              "     Make_Buick  Make_Cadillac  Make_Chevrolet  Make_Pontiac  Make_SAAB  \\\n",
              "0             1              0               0             0          0   \n",
              "1             1              0               0             0          0   \n",
              "2             1              0               0             0          0   \n",
              "3             1              0               0             0          0   \n",
              "4             1              0               0             0          0   \n",
              "..          ...            ...             ...           ...        ...   \n",
              "799           0              0               0             0          0   \n",
              "800           0              0               0             0          0   \n",
              "801           0              0               0             0          0   \n",
              "802           0              0               0             0          0   \n",
              "803           0              0               0             0          0   \n",
              "\n",
              "     Make_Saturn  Model_9-2X AWD  Model_9_3  Model_9_3 HO  Model_9_5  ...  \\\n",
              "0              0               0          0             0          0  ...   \n",
              "1              0               0          0             0          0  ...   \n",
              "2              0               0          0             0          0  ...   \n",
              "3              0               0          0             0          0  ...   \n",
              "4              0               0          0             0          0  ...   \n",
              "..           ...             ...        ...           ...        ...  ...   \n",
              "799            1               0          0             0          0  ...   \n",
              "800            1               0          0             0          0  ...   \n",
              "801            1               0          0             0          0  ...   \n",
              "802            1               0          0             0          0  ...   \n",
              "803            1               0          0             0          0  ...   \n",
              "\n",
              "     Model_STS-V6  Model_STS-V8  Model_Sunfire  Model_Vibe  Model_XLR-V8  \\\n",
              "0               0             0              0           0             0   \n",
              "1               0             0              0           0             0   \n",
              "2               0             0              0           0             0   \n",
              "3               0             0              0           0             0   \n",
              "4               0             0              0           0             0   \n",
              "..            ...           ...            ...         ...           ...   \n",
              "799             0             0              0           0             0   \n",
              "800             0             0              0           0             0   \n",
              "801             0             0              0           0             0   \n",
              "802             0             0              0           0             0   \n",
              "803             0             0              0           0             0   \n",
              "\n",
              "     Type_Convertible  Type_Coupe  Type_Hatchback  Type_Sedan  Type_Wagon  \n",
              "0                   0           0               0           1           0  \n",
              "1                   0           0               0           1           0  \n",
              "2                   0           0               0           1           0  \n",
              "3                   0           0               0           1           0  \n",
              "4                   0           0               0           1           0  \n",
              "..                ...         ...             ...         ...         ...  \n",
              "799                 0           0               0           1           0  \n",
              "800                 0           0               0           1           0  \n",
              "801                 0           0               0           1           0  \n",
              "802                 0           0               0           1           0  \n",
              "803                 0           0               0           1           0  \n",
              "\n",
              "[804 rows x 43 columns]"
            ],
            "text/html": [
              "\n",
              "  <div id=\"df-270014a8-7b6b-49a3-8100-ad530507ecdf\">\n",
              "    <div class=\"colab-df-container\">\n",
              "      <div>\n",
              "<style scoped>\n",
              "    .dataframe tbody tr th:only-of-type {\n",
              "        vertical-align: middle;\n",
              "    }\n",
              "\n",
              "    .dataframe tbody tr th {\n",
              "        vertical-align: top;\n",
              "    }\n",
              "\n",
              "    .dataframe thead th {\n",
              "        text-align: right;\n",
              "    }\n",
              "</style>\n",
              "<table border=\"1\" class=\"dataframe\">\n",
              "  <thead>\n",
              "    <tr style=\"text-align: right;\">\n",
              "      <th></th>\n",
              "      <th>Make_Buick</th>\n",
              "      <th>Make_Cadillac</th>\n",
              "      <th>Make_Chevrolet</th>\n",
              "      <th>Make_Pontiac</th>\n",
              "      <th>Make_SAAB</th>\n",
              "      <th>Make_Saturn</th>\n",
              "      <th>Model_9-2X AWD</th>\n",
              "      <th>Model_9_3</th>\n",
              "      <th>Model_9_3 HO</th>\n",
              "      <th>Model_9_5</th>\n",
              "      <th>...</th>\n",
              "      <th>Model_STS-V6</th>\n",
              "      <th>Model_STS-V8</th>\n",
              "      <th>Model_Sunfire</th>\n",
              "      <th>Model_Vibe</th>\n",
              "      <th>Model_XLR-V8</th>\n",
              "      <th>Type_Convertible</th>\n",
              "      <th>Type_Coupe</th>\n",
              "      <th>Type_Hatchback</th>\n",
              "      <th>Type_Sedan</th>\n",
              "      <th>Type_Wagon</th>\n",
              "    </tr>\n",
              "  </thead>\n",
              "  <tbody>\n",
              "    <tr>\n",
              "      <th>0</th>\n",
              "      <td>1</td>\n",
              "      <td>0</td>\n",
              "      <td>0</td>\n",
              "      <td>0</td>\n",
              "      <td>0</td>\n",
              "      <td>0</td>\n",
              "      <td>0</td>\n",
              "      <td>0</td>\n",
              "      <td>0</td>\n",
              "      <td>0</td>\n",
              "      <td>...</td>\n",
              "      <td>0</td>\n",
              "      <td>0</td>\n",
              "      <td>0</td>\n",
              "      <td>0</td>\n",
              "      <td>0</td>\n",
              "      <td>0</td>\n",
              "      <td>0</td>\n",
              "      <td>0</td>\n",
              "      <td>1</td>\n",
              "      <td>0</td>\n",
              "    </tr>\n",
              "    <tr>\n",
              "      <th>1</th>\n",
              "      <td>1</td>\n",
              "      <td>0</td>\n",
              "      <td>0</td>\n",
              "      <td>0</td>\n",
              "      <td>0</td>\n",
              "      <td>0</td>\n",
              "      <td>0</td>\n",
              "      <td>0</td>\n",
              "      <td>0</td>\n",
              "      <td>0</td>\n",
              "      <td>...</td>\n",
              "      <td>0</td>\n",
              "      <td>0</td>\n",
              "      <td>0</td>\n",
              "      <td>0</td>\n",
              "      <td>0</td>\n",
              "      <td>0</td>\n",
              "      <td>0</td>\n",
              "      <td>0</td>\n",
              "      <td>1</td>\n",
              "      <td>0</td>\n",
              "    </tr>\n",
              "    <tr>\n",
              "      <th>2</th>\n",
              "      <td>1</td>\n",
              "      <td>0</td>\n",
              "      <td>0</td>\n",
              "      <td>0</td>\n",
              "      <td>0</td>\n",
              "      <td>0</td>\n",
              "      <td>0</td>\n",
              "      <td>0</td>\n",
              "      <td>0</td>\n",
              "      <td>0</td>\n",
              "      <td>...</td>\n",
              "      <td>0</td>\n",
              "      <td>0</td>\n",
              "      <td>0</td>\n",
              "      <td>0</td>\n",
              "      <td>0</td>\n",
              "      <td>0</td>\n",
              "      <td>0</td>\n",
              "      <td>0</td>\n",
              "      <td>1</td>\n",
              "      <td>0</td>\n",
              "    </tr>\n",
              "    <tr>\n",
              "      <th>3</th>\n",
              "      <td>1</td>\n",
              "      <td>0</td>\n",
              "      <td>0</td>\n",
              "      <td>0</td>\n",
              "      <td>0</td>\n",
              "      <td>0</td>\n",
              "      <td>0</td>\n",
              "      <td>0</td>\n",
              "      <td>0</td>\n",
              "      <td>0</td>\n",
              "      <td>...</td>\n",
              "      <td>0</td>\n",
              "      <td>0</td>\n",
              "      <td>0</td>\n",
              "      <td>0</td>\n",
              "      <td>0</td>\n",
              "      <td>0</td>\n",
              "      <td>0</td>\n",
              "      <td>0</td>\n",
              "      <td>1</td>\n",
              "      <td>0</td>\n",
              "    </tr>\n",
              "    <tr>\n",
              "      <th>4</th>\n",
              "      <td>1</td>\n",
              "      <td>0</td>\n",
              "      <td>0</td>\n",
              "      <td>0</td>\n",
              "      <td>0</td>\n",
              "      <td>0</td>\n",
              "      <td>0</td>\n",
              "      <td>0</td>\n",
              "      <td>0</td>\n",
              "      <td>0</td>\n",
              "      <td>...</td>\n",
              "      <td>0</td>\n",
              "      <td>0</td>\n",
              "      <td>0</td>\n",
              "      <td>0</td>\n",
              "      <td>0</td>\n",
              "      <td>0</td>\n",
              "      <td>0</td>\n",
              "      <td>0</td>\n",
              "      <td>1</td>\n",
              "      <td>0</td>\n",
              "    </tr>\n",
              "    <tr>\n",
              "      <th>...</th>\n",
              "      <td>...</td>\n",
              "      <td>...</td>\n",
              "      <td>...</td>\n",
              "      <td>...</td>\n",
              "      <td>...</td>\n",
              "      <td>...</td>\n",
              "      <td>...</td>\n",
              "      <td>...</td>\n",
              "      <td>...</td>\n",
              "      <td>...</td>\n",
              "      <td>...</td>\n",
              "      <td>...</td>\n",
              "      <td>...</td>\n",
              "      <td>...</td>\n",
              "      <td>...</td>\n",
              "      <td>...</td>\n",
              "      <td>...</td>\n",
              "      <td>...</td>\n",
              "      <td>...</td>\n",
              "      <td>...</td>\n",
              "      <td>...</td>\n",
              "    </tr>\n",
              "    <tr>\n",
              "      <th>799</th>\n",
              "      <td>0</td>\n",
              "      <td>0</td>\n",
              "      <td>0</td>\n",
              "      <td>0</td>\n",
              "      <td>0</td>\n",
              "      <td>1</td>\n",
              "      <td>0</td>\n",
              "      <td>0</td>\n",
              "      <td>0</td>\n",
              "      <td>0</td>\n",
              "      <td>...</td>\n",
              "      <td>0</td>\n",
              "      <td>0</td>\n",
              "      <td>0</td>\n",
              "      <td>0</td>\n",
              "      <td>0</td>\n",
              "      <td>0</td>\n",
              "      <td>0</td>\n",
              "      <td>0</td>\n",
              "      <td>1</td>\n",
              "      <td>0</td>\n",
              "    </tr>\n",
              "    <tr>\n",
              "      <th>800</th>\n",
              "      <td>0</td>\n",
              "      <td>0</td>\n",
              "      <td>0</td>\n",
              "      <td>0</td>\n",
              "      <td>0</td>\n",
              "      <td>1</td>\n",
              "      <td>0</td>\n",
              "      <td>0</td>\n",
              "      <td>0</td>\n",
              "      <td>0</td>\n",
              "      <td>...</td>\n",
              "      <td>0</td>\n",
              "      <td>0</td>\n",
              "      <td>0</td>\n",
              "      <td>0</td>\n",
              "      <td>0</td>\n",
              "      <td>0</td>\n",
              "      <td>0</td>\n",
              "      <td>0</td>\n",
              "      <td>1</td>\n",
              "      <td>0</td>\n",
              "    </tr>\n",
              "    <tr>\n",
              "      <th>801</th>\n",
              "      <td>0</td>\n",
              "      <td>0</td>\n",
              "      <td>0</td>\n",
              "      <td>0</td>\n",
              "      <td>0</td>\n",
              "      <td>1</td>\n",
              "      <td>0</td>\n",
              "      <td>0</td>\n",
              "      <td>0</td>\n",
              "      <td>0</td>\n",
              "      <td>...</td>\n",
              "      <td>0</td>\n",
              "      <td>0</td>\n",
              "      <td>0</td>\n",
              "      <td>0</td>\n",
              "      <td>0</td>\n",
              "      <td>0</td>\n",
              "      <td>0</td>\n",
              "      <td>0</td>\n",
              "      <td>1</td>\n",
              "      <td>0</td>\n",
              "    </tr>\n",
              "    <tr>\n",
              "      <th>802</th>\n",
              "      <td>0</td>\n",
              "      <td>0</td>\n",
              "      <td>0</td>\n",
              "      <td>0</td>\n",
              "      <td>0</td>\n",
              "      <td>1</td>\n",
              "      <td>0</td>\n",
              "      <td>0</td>\n",
              "      <td>0</td>\n",
              "      <td>0</td>\n",
              "      <td>...</td>\n",
              "      <td>0</td>\n",
              "      <td>0</td>\n",
              "      <td>0</td>\n",
              "      <td>0</td>\n",
              "      <td>0</td>\n",
              "      <td>0</td>\n",
              "      <td>0</td>\n",
              "      <td>0</td>\n",
              "      <td>1</td>\n",
              "      <td>0</td>\n",
              "    </tr>\n",
              "    <tr>\n",
              "      <th>803</th>\n",
              "      <td>0</td>\n",
              "      <td>0</td>\n",
              "      <td>0</td>\n",
              "      <td>0</td>\n",
              "      <td>0</td>\n",
              "      <td>1</td>\n",
              "      <td>0</td>\n",
              "      <td>0</td>\n",
              "      <td>0</td>\n",
              "      <td>0</td>\n",
              "      <td>...</td>\n",
              "      <td>0</td>\n",
              "      <td>0</td>\n",
              "      <td>0</td>\n",
              "      <td>0</td>\n",
              "      <td>0</td>\n",
              "      <td>0</td>\n",
              "      <td>0</td>\n",
              "      <td>0</td>\n",
              "      <td>1</td>\n",
              "      <td>0</td>\n",
              "    </tr>\n",
              "  </tbody>\n",
              "</table>\n",
              "<p>804 rows × 43 columns</p>\n",
              "</div>\n",
              "      <button class=\"colab-df-convert\" onclick=\"convertToInteractive('df-270014a8-7b6b-49a3-8100-ad530507ecdf')\"\n",
              "              title=\"Convert this dataframe to an interactive table.\"\n",
              "              style=\"display:none;\">\n",
              "        \n",
              "  <svg xmlns=\"http://www.w3.org/2000/svg\" height=\"24px\"viewBox=\"0 0 24 24\"\n",
              "       width=\"24px\">\n",
              "    <path d=\"M0 0h24v24H0V0z\" fill=\"none\"/>\n",
              "    <path d=\"M18.56 5.44l.94 2.06.94-2.06 2.06-.94-2.06-.94-.94-2.06-.94 2.06-2.06.94zm-11 1L8.5 8.5l.94-2.06 2.06-.94-2.06-.94L8.5 2.5l-.94 2.06-2.06.94zm10 10l.94 2.06.94-2.06 2.06-.94-2.06-.94-.94-2.06-.94 2.06-2.06.94z\"/><path d=\"M17.41 7.96l-1.37-1.37c-.4-.4-.92-.59-1.43-.59-.52 0-1.04.2-1.43.59L10.3 9.45l-7.72 7.72c-.78.78-.78 2.05 0 2.83L4 21.41c.39.39.9.59 1.41.59.51 0 1.02-.2 1.41-.59l7.78-7.78 2.81-2.81c.8-.78.8-2.07 0-2.86zM5.41 20L4 18.59l7.72-7.72 1.47 1.35L5.41 20z\"/>\n",
              "  </svg>\n",
              "      </button>\n",
              "      \n",
              "  <style>\n",
              "    .colab-df-container {\n",
              "      display:flex;\n",
              "      flex-wrap:wrap;\n",
              "      gap: 12px;\n",
              "    }\n",
              "\n",
              "    .colab-df-convert {\n",
              "      background-color: #E8F0FE;\n",
              "      border: none;\n",
              "      border-radius: 50%;\n",
              "      cursor: pointer;\n",
              "      display: none;\n",
              "      fill: #1967D2;\n",
              "      height: 32px;\n",
              "      padding: 0 0 0 0;\n",
              "      width: 32px;\n",
              "    }\n",
              "\n",
              "    .colab-df-convert:hover {\n",
              "      background-color: #E2EBFA;\n",
              "      box-shadow: 0px 1px 2px rgba(60, 64, 67, 0.3), 0px 1px 3px 1px rgba(60, 64, 67, 0.15);\n",
              "      fill: #174EA6;\n",
              "    }\n",
              "\n",
              "    [theme=dark] .colab-df-convert {\n",
              "      background-color: #3B4455;\n",
              "      fill: #D2E3FC;\n",
              "    }\n",
              "\n",
              "    [theme=dark] .colab-df-convert:hover {\n",
              "      background-color: #434B5C;\n",
              "      box-shadow: 0px 1px 3px 1px rgba(0, 0, 0, 0.15);\n",
              "      filter: drop-shadow(0px 1px 2px rgba(0, 0, 0, 0.3));\n",
              "      fill: #FFFFFF;\n",
              "    }\n",
              "  </style>\n",
              "\n",
              "      <script>\n",
              "        const buttonEl =\n",
              "          document.querySelector('#df-270014a8-7b6b-49a3-8100-ad530507ecdf button.colab-df-convert');\n",
              "        buttonEl.style.display =\n",
              "          google.colab.kernel.accessAllowed ? 'block' : 'none';\n",
              "\n",
              "        async function convertToInteractive(key) {\n",
              "          const element = document.querySelector('#df-270014a8-7b6b-49a3-8100-ad530507ecdf');\n",
              "          const dataTable =\n",
              "            await google.colab.kernel.invokeFunction('convertToInteractive',\n",
              "                                                     [key], {});\n",
              "          if (!dataTable) return;\n",
              "\n",
              "          const docLinkHtml = 'Like what you see? Visit the ' +\n",
              "            '<a target=\"_blank\" href=https://colab.research.google.com/notebooks/data_table.ipynb>data table notebook</a>'\n",
              "            + ' to learn more about interactive tables.';\n",
              "          element.innerHTML = '';\n",
              "          dataTable['output_type'] = 'display_data';\n",
              "          await google.colab.output.renderOutput(dataTable, element);\n",
              "          const docLink = document.createElement('div');\n",
              "          docLink.innerHTML = docLinkHtml;\n",
              "          element.appendChild(docLink);\n",
              "        }\n",
              "      </script>\n",
              "    </div>\n",
              "  </div>\n",
              "  "
            ]
          },
          "metadata": {},
          "execution_count": 103
        }
      ]
    },
    {
      "cell_type": "code",
      "source": [
        "comp=[]\n",
        "for i in df_make:\n",
        "  comp.append(i)"
      ],
      "metadata": {
        "id": "Cecm_EfR_zF5"
      },
      "execution_count": 98,
      "outputs": []
    },
    {
      "cell_type": "code",
      "source": [
        "comp"
      ],
      "metadata": {
        "colab": {
          "base_uri": "https://localhost:8080/"
        },
        "id": "_KTvk52E_zKm",
        "outputId": "602b39da-7eab-46b4-f6fb-d9d9b8c4933d"
      },
      "execution_count": 99,
      "outputs": [
        {
          "output_type": "execute_result",
          "data": {
            "text/plain": [
              "['Buick', 'Cadillac', 'Chevrolet', 'Pontiac', 'SAAB', 'Saturn']"
            ]
          },
          "metadata": {},
          "execution_count": 99
        }
      ]
    },
    {
      "cell_type": "code",
      "source": [
        "X_all=df_new.loc[:,list(df_new.columns)]\n",
        "y=df.loc[:,'Price']\n"
      ],
      "metadata": {
        "id": "L2KW09NOnMl9"
      },
      "execution_count": 104,
      "outputs": []
    },
    {
      "cell_type": "code",
      "source": [
        "X_all"
      ],
      "metadata": {
        "colab": {
          "base_uri": "https://localhost:8080/",
          "height": 505
        },
        "id": "ut96Y3WJrkjr",
        "outputId": "86cdac4a-d8ca-4051-89d5-bbf2b185b330"
      },
      "execution_count": 105,
      "outputs": [
        {
          "output_type": "execute_result",
          "data": {
            "text/plain": [
              "     Make_Buick  Make_Cadillac  Make_Chevrolet  Make_Pontiac  Make_SAAB  \\\n",
              "0             1              0               0             0          0   \n",
              "1             1              0               0             0          0   \n",
              "2             1              0               0             0          0   \n",
              "3             1              0               0             0          0   \n",
              "4             1              0               0             0          0   \n",
              "..          ...            ...             ...           ...        ...   \n",
              "799           0              0               0             0          0   \n",
              "800           0              0               0             0          0   \n",
              "801           0              0               0             0          0   \n",
              "802           0              0               0             0          0   \n",
              "803           0              0               0             0          0   \n",
              "\n",
              "     Make_Saturn  Model_9-2X AWD  Model_9_3  Model_9_3 HO  Model_9_5  ...  \\\n",
              "0              0               0          0             0          0  ...   \n",
              "1              0               0          0             0          0  ...   \n",
              "2              0               0          0             0          0  ...   \n",
              "3              0               0          0             0          0  ...   \n",
              "4              0               0          0             0          0  ...   \n",
              "..           ...             ...        ...           ...        ...  ...   \n",
              "799            1               0          0             0          0  ...   \n",
              "800            1               0          0             0          0  ...   \n",
              "801            1               0          0             0          0  ...   \n",
              "802            1               0          0             0          0  ...   \n",
              "803            1               0          0             0          0  ...   \n",
              "\n",
              "     Model_STS-V6  Model_STS-V8  Model_Sunfire  Model_Vibe  Model_XLR-V8  \\\n",
              "0               0             0              0           0             0   \n",
              "1               0             0              0           0             0   \n",
              "2               0             0              0           0             0   \n",
              "3               0             0              0           0             0   \n",
              "4               0             0              0           0             0   \n",
              "..            ...           ...            ...         ...           ...   \n",
              "799             0             0              0           0             0   \n",
              "800             0             0              0           0             0   \n",
              "801             0             0              0           0             0   \n",
              "802             0             0              0           0             0   \n",
              "803             0             0              0           0             0   \n",
              "\n",
              "     Type_Convertible  Type_Coupe  Type_Hatchback  Type_Sedan  Type_Wagon  \n",
              "0                   0           0               0           1           0  \n",
              "1                   0           0               0           1           0  \n",
              "2                   0           0               0           1           0  \n",
              "3                   0           0               0           1           0  \n",
              "4                   0           0               0           1           0  \n",
              "..                ...         ...             ...         ...         ...  \n",
              "799                 0           0               0           1           0  \n",
              "800                 0           0               0           1           0  \n",
              "801                 0           0               0           1           0  \n",
              "802                 0           0               0           1           0  \n",
              "803                 0           0               0           1           0  \n",
              "\n",
              "[804 rows x 43 columns]"
            ],
            "text/html": [
              "\n",
              "  <div id=\"df-e63caeb1-87d0-412e-a129-e18b512e6bd0\">\n",
              "    <div class=\"colab-df-container\">\n",
              "      <div>\n",
              "<style scoped>\n",
              "    .dataframe tbody tr th:only-of-type {\n",
              "        vertical-align: middle;\n",
              "    }\n",
              "\n",
              "    .dataframe tbody tr th {\n",
              "        vertical-align: top;\n",
              "    }\n",
              "\n",
              "    .dataframe thead th {\n",
              "        text-align: right;\n",
              "    }\n",
              "</style>\n",
              "<table border=\"1\" class=\"dataframe\">\n",
              "  <thead>\n",
              "    <tr style=\"text-align: right;\">\n",
              "      <th></th>\n",
              "      <th>Make_Buick</th>\n",
              "      <th>Make_Cadillac</th>\n",
              "      <th>Make_Chevrolet</th>\n",
              "      <th>Make_Pontiac</th>\n",
              "      <th>Make_SAAB</th>\n",
              "      <th>Make_Saturn</th>\n",
              "      <th>Model_9-2X AWD</th>\n",
              "      <th>Model_9_3</th>\n",
              "      <th>Model_9_3 HO</th>\n",
              "      <th>Model_9_5</th>\n",
              "      <th>...</th>\n",
              "      <th>Model_STS-V6</th>\n",
              "      <th>Model_STS-V8</th>\n",
              "      <th>Model_Sunfire</th>\n",
              "      <th>Model_Vibe</th>\n",
              "      <th>Model_XLR-V8</th>\n",
              "      <th>Type_Convertible</th>\n",
              "      <th>Type_Coupe</th>\n",
              "      <th>Type_Hatchback</th>\n",
              "      <th>Type_Sedan</th>\n",
              "      <th>Type_Wagon</th>\n",
              "    </tr>\n",
              "  </thead>\n",
              "  <tbody>\n",
              "    <tr>\n",
              "      <th>0</th>\n",
              "      <td>1</td>\n",
              "      <td>0</td>\n",
              "      <td>0</td>\n",
              "      <td>0</td>\n",
              "      <td>0</td>\n",
              "      <td>0</td>\n",
              "      <td>0</td>\n",
              "      <td>0</td>\n",
              "      <td>0</td>\n",
              "      <td>0</td>\n",
              "      <td>...</td>\n",
              "      <td>0</td>\n",
              "      <td>0</td>\n",
              "      <td>0</td>\n",
              "      <td>0</td>\n",
              "      <td>0</td>\n",
              "      <td>0</td>\n",
              "      <td>0</td>\n",
              "      <td>0</td>\n",
              "      <td>1</td>\n",
              "      <td>0</td>\n",
              "    </tr>\n",
              "    <tr>\n",
              "      <th>1</th>\n",
              "      <td>1</td>\n",
              "      <td>0</td>\n",
              "      <td>0</td>\n",
              "      <td>0</td>\n",
              "      <td>0</td>\n",
              "      <td>0</td>\n",
              "      <td>0</td>\n",
              "      <td>0</td>\n",
              "      <td>0</td>\n",
              "      <td>0</td>\n",
              "      <td>...</td>\n",
              "      <td>0</td>\n",
              "      <td>0</td>\n",
              "      <td>0</td>\n",
              "      <td>0</td>\n",
              "      <td>0</td>\n",
              "      <td>0</td>\n",
              "      <td>0</td>\n",
              "      <td>0</td>\n",
              "      <td>1</td>\n",
              "      <td>0</td>\n",
              "    </tr>\n",
              "    <tr>\n",
              "      <th>2</th>\n",
              "      <td>1</td>\n",
              "      <td>0</td>\n",
              "      <td>0</td>\n",
              "      <td>0</td>\n",
              "      <td>0</td>\n",
              "      <td>0</td>\n",
              "      <td>0</td>\n",
              "      <td>0</td>\n",
              "      <td>0</td>\n",
              "      <td>0</td>\n",
              "      <td>...</td>\n",
              "      <td>0</td>\n",
              "      <td>0</td>\n",
              "      <td>0</td>\n",
              "      <td>0</td>\n",
              "      <td>0</td>\n",
              "      <td>0</td>\n",
              "      <td>0</td>\n",
              "      <td>0</td>\n",
              "      <td>1</td>\n",
              "      <td>0</td>\n",
              "    </tr>\n",
              "    <tr>\n",
              "      <th>3</th>\n",
              "      <td>1</td>\n",
              "      <td>0</td>\n",
              "      <td>0</td>\n",
              "      <td>0</td>\n",
              "      <td>0</td>\n",
              "      <td>0</td>\n",
              "      <td>0</td>\n",
              "      <td>0</td>\n",
              "      <td>0</td>\n",
              "      <td>0</td>\n",
              "      <td>...</td>\n",
              "      <td>0</td>\n",
              "      <td>0</td>\n",
              "      <td>0</td>\n",
              "      <td>0</td>\n",
              "      <td>0</td>\n",
              "      <td>0</td>\n",
              "      <td>0</td>\n",
              "      <td>0</td>\n",
              "      <td>1</td>\n",
              "      <td>0</td>\n",
              "    </tr>\n",
              "    <tr>\n",
              "      <th>4</th>\n",
              "      <td>1</td>\n",
              "      <td>0</td>\n",
              "      <td>0</td>\n",
              "      <td>0</td>\n",
              "      <td>0</td>\n",
              "      <td>0</td>\n",
              "      <td>0</td>\n",
              "      <td>0</td>\n",
              "      <td>0</td>\n",
              "      <td>0</td>\n",
              "      <td>...</td>\n",
              "      <td>0</td>\n",
              "      <td>0</td>\n",
              "      <td>0</td>\n",
              "      <td>0</td>\n",
              "      <td>0</td>\n",
              "      <td>0</td>\n",
              "      <td>0</td>\n",
              "      <td>0</td>\n",
              "      <td>1</td>\n",
              "      <td>0</td>\n",
              "    </tr>\n",
              "    <tr>\n",
              "      <th>...</th>\n",
              "      <td>...</td>\n",
              "      <td>...</td>\n",
              "      <td>...</td>\n",
              "      <td>...</td>\n",
              "      <td>...</td>\n",
              "      <td>...</td>\n",
              "      <td>...</td>\n",
              "      <td>...</td>\n",
              "      <td>...</td>\n",
              "      <td>...</td>\n",
              "      <td>...</td>\n",
              "      <td>...</td>\n",
              "      <td>...</td>\n",
              "      <td>...</td>\n",
              "      <td>...</td>\n",
              "      <td>...</td>\n",
              "      <td>...</td>\n",
              "      <td>...</td>\n",
              "      <td>...</td>\n",
              "      <td>...</td>\n",
              "      <td>...</td>\n",
              "    </tr>\n",
              "    <tr>\n",
              "      <th>799</th>\n",
              "      <td>0</td>\n",
              "      <td>0</td>\n",
              "      <td>0</td>\n",
              "      <td>0</td>\n",
              "      <td>0</td>\n",
              "      <td>1</td>\n",
              "      <td>0</td>\n",
              "      <td>0</td>\n",
              "      <td>0</td>\n",
              "      <td>0</td>\n",
              "      <td>...</td>\n",
              "      <td>0</td>\n",
              "      <td>0</td>\n",
              "      <td>0</td>\n",
              "      <td>0</td>\n",
              "      <td>0</td>\n",
              "      <td>0</td>\n",
              "      <td>0</td>\n",
              "      <td>0</td>\n",
              "      <td>1</td>\n",
              "      <td>0</td>\n",
              "    </tr>\n",
              "    <tr>\n",
              "      <th>800</th>\n",
              "      <td>0</td>\n",
              "      <td>0</td>\n",
              "      <td>0</td>\n",
              "      <td>0</td>\n",
              "      <td>0</td>\n",
              "      <td>1</td>\n",
              "      <td>0</td>\n",
              "      <td>0</td>\n",
              "      <td>0</td>\n",
              "      <td>0</td>\n",
              "      <td>...</td>\n",
              "      <td>0</td>\n",
              "      <td>0</td>\n",
              "      <td>0</td>\n",
              "      <td>0</td>\n",
              "      <td>0</td>\n",
              "      <td>0</td>\n",
              "      <td>0</td>\n",
              "      <td>0</td>\n",
              "      <td>1</td>\n",
              "      <td>0</td>\n",
              "    </tr>\n",
              "    <tr>\n",
              "      <th>801</th>\n",
              "      <td>0</td>\n",
              "      <td>0</td>\n",
              "      <td>0</td>\n",
              "      <td>0</td>\n",
              "      <td>0</td>\n",
              "      <td>1</td>\n",
              "      <td>0</td>\n",
              "      <td>0</td>\n",
              "      <td>0</td>\n",
              "      <td>0</td>\n",
              "      <td>...</td>\n",
              "      <td>0</td>\n",
              "      <td>0</td>\n",
              "      <td>0</td>\n",
              "      <td>0</td>\n",
              "      <td>0</td>\n",
              "      <td>0</td>\n",
              "      <td>0</td>\n",
              "      <td>0</td>\n",
              "      <td>1</td>\n",
              "      <td>0</td>\n",
              "    </tr>\n",
              "    <tr>\n",
              "      <th>802</th>\n",
              "      <td>0</td>\n",
              "      <td>0</td>\n",
              "      <td>0</td>\n",
              "      <td>0</td>\n",
              "      <td>0</td>\n",
              "      <td>1</td>\n",
              "      <td>0</td>\n",
              "      <td>0</td>\n",
              "      <td>0</td>\n",
              "      <td>0</td>\n",
              "      <td>...</td>\n",
              "      <td>0</td>\n",
              "      <td>0</td>\n",
              "      <td>0</td>\n",
              "      <td>0</td>\n",
              "      <td>0</td>\n",
              "      <td>0</td>\n",
              "      <td>0</td>\n",
              "      <td>0</td>\n",
              "      <td>1</td>\n",
              "      <td>0</td>\n",
              "    </tr>\n",
              "    <tr>\n",
              "      <th>803</th>\n",
              "      <td>0</td>\n",
              "      <td>0</td>\n",
              "      <td>0</td>\n",
              "      <td>0</td>\n",
              "      <td>0</td>\n",
              "      <td>1</td>\n",
              "      <td>0</td>\n",
              "      <td>0</td>\n",
              "      <td>0</td>\n",
              "      <td>0</td>\n",
              "      <td>...</td>\n",
              "      <td>0</td>\n",
              "      <td>0</td>\n",
              "      <td>0</td>\n",
              "      <td>0</td>\n",
              "      <td>0</td>\n",
              "      <td>0</td>\n",
              "      <td>0</td>\n",
              "      <td>0</td>\n",
              "      <td>1</td>\n",
              "      <td>0</td>\n",
              "    </tr>\n",
              "  </tbody>\n",
              "</table>\n",
              "<p>804 rows × 43 columns</p>\n",
              "</div>\n",
              "      <button class=\"colab-df-convert\" onclick=\"convertToInteractive('df-e63caeb1-87d0-412e-a129-e18b512e6bd0')\"\n",
              "              title=\"Convert this dataframe to an interactive table.\"\n",
              "              style=\"display:none;\">\n",
              "        \n",
              "  <svg xmlns=\"http://www.w3.org/2000/svg\" height=\"24px\"viewBox=\"0 0 24 24\"\n",
              "       width=\"24px\">\n",
              "    <path d=\"M0 0h24v24H0V0z\" fill=\"none\"/>\n",
              "    <path d=\"M18.56 5.44l.94 2.06.94-2.06 2.06-.94-2.06-.94-.94-2.06-.94 2.06-2.06.94zm-11 1L8.5 8.5l.94-2.06 2.06-.94-2.06-.94L8.5 2.5l-.94 2.06-2.06.94zm10 10l.94 2.06.94-2.06 2.06-.94-2.06-.94-.94-2.06-.94 2.06-2.06.94z\"/><path d=\"M17.41 7.96l-1.37-1.37c-.4-.4-.92-.59-1.43-.59-.52 0-1.04.2-1.43.59L10.3 9.45l-7.72 7.72c-.78.78-.78 2.05 0 2.83L4 21.41c.39.39.9.59 1.41.59.51 0 1.02-.2 1.41-.59l7.78-7.78 2.81-2.81c.8-.78.8-2.07 0-2.86zM5.41 20L4 18.59l7.72-7.72 1.47 1.35L5.41 20z\"/>\n",
              "  </svg>\n",
              "      </button>\n",
              "      \n",
              "  <style>\n",
              "    .colab-df-container {\n",
              "      display:flex;\n",
              "      flex-wrap:wrap;\n",
              "      gap: 12px;\n",
              "    }\n",
              "\n",
              "    .colab-df-convert {\n",
              "      background-color: #E8F0FE;\n",
              "      border: none;\n",
              "      border-radius: 50%;\n",
              "      cursor: pointer;\n",
              "      display: none;\n",
              "      fill: #1967D2;\n",
              "      height: 32px;\n",
              "      padding: 0 0 0 0;\n",
              "      width: 32px;\n",
              "    }\n",
              "\n",
              "    .colab-df-convert:hover {\n",
              "      background-color: #E2EBFA;\n",
              "      box-shadow: 0px 1px 2px rgba(60, 64, 67, 0.3), 0px 1px 3px 1px rgba(60, 64, 67, 0.15);\n",
              "      fill: #174EA6;\n",
              "    }\n",
              "\n",
              "    [theme=dark] .colab-df-convert {\n",
              "      background-color: #3B4455;\n",
              "      fill: #D2E3FC;\n",
              "    }\n",
              "\n",
              "    [theme=dark] .colab-df-convert:hover {\n",
              "      background-color: #434B5C;\n",
              "      box-shadow: 0px 1px 3px 1px rgba(0, 0, 0, 0.15);\n",
              "      filter: drop-shadow(0px 1px 2px rgba(0, 0, 0, 0.3));\n",
              "      fill: #FFFFFF;\n",
              "    }\n",
              "  </style>\n",
              "\n",
              "      <script>\n",
              "        const buttonEl =\n",
              "          document.querySelector('#df-e63caeb1-87d0-412e-a129-e18b512e6bd0 button.colab-df-convert');\n",
              "        buttonEl.style.display =\n",
              "          google.colab.kernel.accessAllowed ? 'block' : 'none';\n",
              "\n",
              "        async function convertToInteractive(key) {\n",
              "          const element = document.querySelector('#df-e63caeb1-87d0-412e-a129-e18b512e6bd0');\n",
              "          const dataTable =\n",
              "            await google.colab.kernel.invokeFunction('convertToInteractive',\n",
              "                                                     [key], {});\n",
              "          if (!dataTable) return;\n",
              "\n",
              "          const docLinkHtml = 'Like what you see? Visit the ' +\n",
              "            '<a target=\"_blank\" href=https://colab.research.google.com/notebooks/data_table.ipynb>data table notebook</a>'\n",
              "            + ' to learn more about interactive tables.';\n",
              "          element.innerHTML = '';\n",
              "          dataTable['output_type'] = 'display_data';\n",
              "          await google.colab.output.renderOutput(dataTable, element);\n",
              "          const docLink = document.createElement('div');\n",
              "          docLink.innerHTML = docLinkHtml;\n",
              "          element.appendChild(docLink);\n",
              "        }\n",
              "      </script>\n",
              "    </div>\n",
              "  </div>\n",
              "  "
            ]
          },
          "metadata": {},
          "execution_count": 105
        }
      ]
    },
    {
      "cell_type": "code",
      "source": [],
      "metadata": {
        "id": "0IdCAye8p1LN"
      },
      "execution_count": null,
      "outputs": []
    },
    {
      "cell_type": "code",
      "source": [
        "X_train,X_test,y_train,y_test=train_test_split(X_all,y,test_size=0.3,random_state=107)\n",
        "scaler.fit(X_train)\n",
        "X_train_scale=scaler.transform(X_train)\n",
        "X_test_scale=scaler.transform(X_test)\n",
        "reg=LinearRegression()\n",
        "reg.fit(X_train_scale,y_train)\n",
        "y_predict=reg.predict(X_test_scale)\n",
        "R2_score.append(metrics.r2_score(y_test,y_predict))\n",
        "print(\"R2 score is :\",metrics.r2_score(y_test,y_predict))"
      ],
      "metadata": {
        "colab": {
          "base_uri": "https://localhost:8080/"
        },
        "id": "AypniyEVohn2",
        "outputId": "58f8babb-54e2-411e-ca7e-3b00e6b95ac7"
      },
      "execution_count": 106,
      "outputs": [
        {
          "output_type": "stream",
          "name": "stdout",
          "text": [
            "R2 score is : 0.9548108384186119\n"
          ]
        }
      ]
    },
    {
      "cell_type": "code",
      "source": [
        "coef = pd.DataFrame(reg.coef_, list(df_new.columns) , columns = ['coefficient'])\n",
        "coef"
      ],
      "metadata": {
        "id": "bMOEwbqOohr7",
        "colab": {
          "base_uri": "https://localhost:8080/",
          "height": 1000
        },
        "outputId": "557ab3e2-6dbd-41ae-ae87-15a8e2cbf4db"
      },
      "execution_count": 115,
      "outputs": [
        {
          "output_type": "execute_result",
          "data": {
            "text/plain": [
              "                    coefficient\n",
              "Make_Buick         5.810488e+15\n",
              "Make_Cadillac      8.475841e+16\n",
              "Make_Chevrolet     1.060946e+17\n",
              "Make_Pontiac      -5.009008e+15\n",
              "Make_SAAB          7.579094e+16\n",
              "Make_Saturn        4.307843e+16\n",
              "Model_9-2X AWD     6.323281e+15\n",
              "Model_9_3          1.202121e+16\n",
              "Model_9_3 HO       2.040144e+16\n",
              "Model_9_5          1.645827e+16\n",
              "Model_9_5 HO       1.254434e+16\n",
              "Model_AVEO         2.012126e+16\n",
              "Model_Bonneville   6.641701e+16\n",
              "Model_CST-V        3.003353e+15\n",
              "Model_CTS          3.668404e+15\n",
              "Model_Cavalier     2.250591e+16\n",
              "Model_Century      3.754168e+16\n",
              "Model_Classic      9.492177e+15\n",
              "Model_Cobalt       2.040454e+16\n",
              "Model_Corvette     1.237207e+16\n",
              "Model_Deville      5.542448e+15\n",
              "Model_G6           4.753003e+16\n",
              "Model_GTO          3.506758e+16\n",
              "Model_Grand Am     5.258557e+16\n",
              "Model_Grand Prix   5.714615e+16\n",
              "Model_Impala       1.585568e+16\n",
              "Model_Ion          3.198819e+16\n",
              "Model_L Series     1.259929e+16\n",
              "Model_Lacrosse     5.132404e+16\n",
              "Model_Lesabre      4.268762e+16\n",
              "Model_Malibu       2.392062e+16\n",
              "Model_Monte Carlo  1.585568e+16\n",
              "Model_Park Avenue  4.105028e+16\n",
              "Model_STS-V6       3.461730e+15\n",
              "Model_STS-V8       3.668404e+15\n",
              "Model_Sunfire      3.745503e+16\n",
              "Model_Vibe         6.393034e+16\n",
              "Model_XLR-V8       3.241073e+15\n",
              "Type_Convertible  -2.404904e+16\n",
              "Type_Coupe        -3.649904e+16\n",
              "Type_Hatchback    -2.466102e+16\n",
              "Type_Sedan        -4.769250e+16\n",
              "Type_Wagon        -2.718981e+16"
            ],
            "text/html": [
              "\n",
              "  <div id=\"df-10dbcbda-337e-4cc6-bb37-6e944454c11c\">\n",
              "    <div class=\"colab-df-container\">\n",
              "      <div>\n",
              "<style scoped>\n",
              "    .dataframe tbody tr th:only-of-type {\n",
              "        vertical-align: middle;\n",
              "    }\n",
              "\n",
              "    .dataframe tbody tr th {\n",
              "        vertical-align: top;\n",
              "    }\n",
              "\n",
              "    .dataframe thead th {\n",
              "        text-align: right;\n",
              "    }\n",
              "</style>\n",
              "<table border=\"1\" class=\"dataframe\">\n",
              "  <thead>\n",
              "    <tr style=\"text-align: right;\">\n",
              "      <th></th>\n",
              "      <th>coefficient</th>\n",
              "    </tr>\n",
              "  </thead>\n",
              "  <tbody>\n",
              "    <tr>\n",
              "      <th>Make_Buick</th>\n",
              "      <td>5.810488e+15</td>\n",
              "    </tr>\n",
              "    <tr>\n",
              "      <th>Make_Cadillac</th>\n",
              "      <td>8.475841e+16</td>\n",
              "    </tr>\n",
              "    <tr>\n",
              "      <th>Make_Chevrolet</th>\n",
              "      <td>1.060946e+17</td>\n",
              "    </tr>\n",
              "    <tr>\n",
              "      <th>Make_Pontiac</th>\n",
              "      <td>-5.009008e+15</td>\n",
              "    </tr>\n",
              "    <tr>\n",
              "      <th>Make_SAAB</th>\n",
              "      <td>7.579094e+16</td>\n",
              "    </tr>\n",
              "    <tr>\n",
              "      <th>Make_Saturn</th>\n",
              "      <td>4.307843e+16</td>\n",
              "    </tr>\n",
              "    <tr>\n",
              "      <th>Model_9-2X AWD</th>\n",
              "      <td>6.323281e+15</td>\n",
              "    </tr>\n",
              "    <tr>\n",
              "      <th>Model_9_3</th>\n",
              "      <td>1.202121e+16</td>\n",
              "    </tr>\n",
              "    <tr>\n",
              "      <th>Model_9_3 HO</th>\n",
              "      <td>2.040144e+16</td>\n",
              "    </tr>\n",
              "    <tr>\n",
              "      <th>Model_9_5</th>\n",
              "      <td>1.645827e+16</td>\n",
              "    </tr>\n",
              "    <tr>\n",
              "      <th>Model_9_5 HO</th>\n",
              "      <td>1.254434e+16</td>\n",
              "    </tr>\n",
              "    <tr>\n",
              "      <th>Model_AVEO</th>\n",
              "      <td>2.012126e+16</td>\n",
              "    </tr>\n",
              "    <tr>\n",
              "      <th>Model_Bonneville</th>\n",
              "      <td>6.641701e+16</td>\n",
              "    </tr>\n",
              "    <tr>\n",
              "      <th>Model_CST-V</th>\n",
              "      <td>3.003353e+15</td>\n",
              "    </tr>\n",
              "    <tr>\n",
              "      <th>Model_CTS</th>\n",
              "      <td>3.668404e+15</td>\n",
              "    </tr>\n",
              "    <tr>\n",
              "      <th>Model_Cavalier</th>\n",
              "      <td>2.250591e+16</td>\n",
              "    </tr>\n",
              "    <tr>\n",
              "      <th>Model_Century</th>\n",
              "      <td>3.754168e+16</td>\n",
              "    </tr>\n",
              "    <tr>\n",
              "      <th>Model_Classic</th>\n",
              "      <td>9.492177e+15</td>\n",
              "    </tr>\n",
              "    <tr>\n",
              "      <th>Model_Cobalt</th>\n",
              "      <td>2.040454e+16</td>\n",
              "    </tr>\n",
              "    <tr>\n",
              "      <th>Model_Corvette</th>\n",
              "      <td>1.237207e+16</td>\n",
              "    </tr>\n",
              "    <tr>\n",
              "      <th>Model_Deville</th>\n",
              "      <td>5.542448e+15</td>\n",
              "    </tr>\n",
              "    <tr>\n",
              "      <th>Model_G6</th>\n",
              "      <td>4.753003e+16</td>\n",
              "    </tr>\n",
              "    <tr>\n",
              "      <th>Model_GTO</th>\n",
              "      <td>3.506758e+16</td>\n",
              "    </tr>\n",
              "    <tr>\n",
              "      <th>Model_Grand Am</th>\n",
              "      <td>5.258557e+16</td>\n",
              "    </tr>\n",
              "    <tr>\n",
              "      <th>Model_Grand Prix</th>\n",
              "      <td>5.714615e+16</td>\n",
              "    </tr>\n",
              "    <tr>\n",
              "      <th>Model_Impala</th>\n",
              "      <td>1.585568e+16</td>\n",
              "    </tr>\n",
              "    <tr>\n",
              "      <th>Model_Ion</th>\n",
              "      <td>3.198819e+16</td>\n",
              "    </tr>\n",
              "    <tr>\n",
              "      <th>Model_L Series</th>\n",
              "      <td>1.259929e+16</td>\n",
              "    </tr>\n",
              "    <tr>\n",
              "      <th>Model_Lacrosse</th>\n",
              "      <td>5.132404e+16</td>\n",
              "    </tr>\n",
              "    <tr>\n",
              "      <th>Model_Lesabre</th>\n",
              "      <td>4.268762e+16</td>\n",
              "    </tr>\n",
              "    <tr>\n",
              "      <th>Model_Malibu</th>\n",
              "      <td>2.392062e+16</td>\n",
              "    </tr>\n",
              "    <tr>\n",
              "      <th>Model_Monte Carlo</th>\n",
              "      <td>1.585568e+16</td>\n",
              "    </tr>\n",
              "    <tr>\n",
              "      <th>Model_Park Avenue</th>\n",
              "      <td>4.105028e+16</td>\n",
              "    </tr>\n",
              "    <tr>\n",
              "      <th>Model_STS-V6</th>\n",
              "      <td>3.461730e+15</td>\n",
              "    </tr>\n",
              "    <tr>\n",
              "      <th>Model_STS-V8</th>\n",
              "      <td>3.668404e+15</td>\n",
              "    </tr>\n",
              "    <tr>\n",
              "      <th>Model_Sunfire</th>\n",
              "      <td>3.745503e+16</td>\n",
              "    </tr>\n",
              "    <tr>\n",
              "      <th>Model_Vibe</th>\n",
              "      <td>6.393034e+16</td>\n",
              "    </tr>\n",
              "    <tr>\n",
              "      <th>Model_XLR-V8</th>\n",
              "      <td>3.241073e+15</td>\n",
              "    </tr>\n",
              "    <tr>\n",
              "      <th>Type_Convertible</th>\n",
              "      <td>-2.404904e+16</td>\n",
              "    </tr>\n",
              "    <tr>\n",
              "      <th>Type_Coupe</th>\n",
              "      <td>-3.649904e+16</td>\n",
              "    </tr>\n",
              "    <tr>\n",
              "      <th>Type_Hatchback</th>\n",
              "      <td>-2.466102e+16</td>\n",
              "    </tr>\n",
              "    <tr>\n",
              "      <th>Type_Sedan</th>\n",
              "      <td>-4.769250e+16</td>\n",
              "    </tr>\n",
              "    <tr>\n",
              "      <th>Type_Wagon</th>\n",
              "      <td>-2.718981e+16</td>\n",
              "    </tr>\n",
              "  </tbody>\n",
              "</table>\n",
              "</div>\n",
              "      <button class=\"colab-df-convert\" onclick=\"convertToInteractive('df-10dbcbda-337e-4cc6-bb37-6e944454c11c')\"\n",
              "              title=\"Convert this dataframe to an interactive table.\"\n",
              "              style=\"display:none;\">\n",
              "        \n",
              "  <svg xmlns=\"http://www.w3.org/2000/svg\" height=\"24px\"viewBox=\"0 0 24 24\"\n",
              "       width=\"24px\">\n",
              "    <path d=\"M0 0h24v24H0V0z\" fill=\"none\"/>\n",
              "    <path d=\"M18.56 5.44l.94 2.06.94-2.06 2.06-.94-2.06-.94-.94-2.06-.94 2.06-2.06.94zm-11 1L8.5 8.5l.94-2.06 2.06-.94-2.06-.94L8.5 2.5l-.94 2.06-2.06.94zm10 10l.94 2.06.94-2.06 2.06-.94-2.06-.94-.94-2.06-.94 2.06-2.06.94z\"/><path d=\"M17.41 7.96l-1.37-1.37c-.4-.4-.92-.59-1.43-.59-.52 0-1.04.2-1.43.59L10.3 9.45l-7.72 7.72c-.78.78-.78 2.05 0 2.83L4 21.41c.39.39.9.59 1.41.59.51 0 1.02-.2 1.41-.59l7.78-7.78 2.81-2.81c.8-.78.8-2.07 0-2.86zM5.41 20L4 18.59l7.72-7.72 1.47 1.35L5.41 20z\"/>\n",
              "  </svg>\n",
              "      </button>\n",
              "      \n",
              "  <style>\n",
              "    .colab-df-container {\n",
              "      display:flex;\n",
              "      flex-wrap:wrap;\n",
              "      gap: 12px;\n",
              "    }\n",
              "\n",
              "    .colab-df-convert {\n",
              "      background-color: #E8F0FE;\n",
              "      border: none;\n",
              "      border-radius: 50%;\n",
              "      cursor: pointer;\n",
              "      display: none;\n",
              "      fill: #1967D2;\n",
              "      height: 32px;\n",
              "      padding: 0 0 0 0;\n",
              "      width: 32px;\n",
              "    }\n",
              "\n",
              "    .colab-df-convert:hover {\n",
              "      background-color: #E2EBFA;\n",
              "      box-shadow: 0px 1px 2px rgba(60, 64, 67, 0.3), 0px 1px 3px 1px rgba(60, 64, 67, 0.15);\n",
              "      fill: #174EA6;\n",
              "    }\n",
              "\n",
              "    [theme=dark] .colab-df-convert {\n",
              "      background-color: #3B4455;\n",
              "      fill: #D2E3FC;\n",
              "    }\n",
              "\n",
              "    [theme=dark] .colab-df-convert:hover {\n",
              "      background-color: #434B5C;\n",
              "      box-shadow: 0px 1px 3px 1px rgba(0, 0, 0, 0.15);\n",
              "      filter: drop-shadow(0px 1px 2px rgba(0, 0, 0, 0.3));\n",
              "      fill: #FFFFFF;\n",
              "    }\n",
              "  </style>\n",
              "\n",
              "      <script>\n",
              "        const buttonEl =\n",
              "          document.querySelector('#df-10dbcbda-337e-4cc6-bb37-6e944454c11c button.colab-df-convert');\n",
              "        buttonEl.style.display =\n",
              "          google.colab.kernel.accessAllowed ? 'block' : 'none';\n",
              "\n",
              "        async function convertToInteractive(key) {\n",
              "          const element = document.querySelector('#df-10dbcbda-337e-4cc6-bb37-6e944454c11c');\n",
              "          const dataTable =\n",
              "            await google.colab.kernel.invokeFunction('convertToInteractive',\n",
              "                                                     [key], {});\n",
              "          if (!dataTable) return;\n",
              "\n",
              "          const docLinkHtml = 'Like what you see? Visit the ' +\n",
              "            '<a target=\"_blank\" href=https://colab.research.google.com/notebooks/data_table.ipynb>data table notebook</a>'\n",
              "            + ' to learn more about interactive tables.';\n",
              "          element.innerHTML = '';\n",
              "          dataTable['output_type'] = 'display_data';\n",
              "          await google.colab.output.renderOutput(dataTable, element);\n",
              "          const docLink = document.createElement('div');\n",
              "          docLink.innerHTML = docLinkHtml;\n",
              "          element.appendChild(docLink);\n",
              "        }\n",
              "      </script>\n",
              "    </div>\n",
              "  </div>\n",
              "  "
            ]
          },
          "metadata": {},
          "execution_count": 115
        }
      ]
    },
    {
      "cell_type": "markdown",
      "source": [
        "# Make_Chevrolet is most important make give high coeffient.\n",
        "\n",
        "# Model_Bonneville is most important model give high coeffient.\n",
        "\n",
        "# Type_Sedan is most important type give high coefficient\n"
      ],
      "metadata": {
        "id": "s_7a1YrDEobF"
      }
    },
    {
      "cell_type": "code",
      "source": [],
      "metadata": {
        "id": "g85EvK2eEIoE"
      },
      "execution_count": null,
      "outputs": []
    }
  ]
}